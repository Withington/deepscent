{
 "cells": [
  {
   "cell_type": "markdown",
   "metadata": {},
   "source": [
    "# Group by"
   ]
  },
  {
   "cell_type": "code",
   "execution_count": null,
   "metadata": {},
   "outputs": [],
   "source": [
    "import datetime\n",
    "from pathlib import Path\n",
    "\n",
    "import numpy as np\n",
    "import matplotlib.pyplot as plt\n",
    "import pandas as pd"
   ]
  },
  {
   "cell_type": "code",
   "execution_count": null,
   "metadata": {
    "scrolled": true
   },
   "outputs": [],
   "source": [
    "data_dir = '../data/private_data'\n",
    "df = pd.read_csv(data_dir+'/private_events_dev2/private_events_all_TRAIN_update.txt', header=None, sep=' ')\n",
    "meta = pd.read_csv(data_dir+'/private_events_dev2/private_events_all_TRAIN_update_meta.txt', sep=',', parse_dates=['date'])\n",
    "data_meta = pd.concat([meta, df], axis=1)\n",
    "data_meta.head()\n",
    "dog_names = ['Rex', 'Samson', 'Spike']"
   ]
  },
  {
   "cell_type": "markdown",
   "metadata": {},
   "source": [
    "# Group by date and calculate accuracy "
   ]
  },
  {
   "cell_type": "code",
   "execution_count": null,
   "metadata": {},
   "outputs": [],
   "source": [
    "dog0_data = data_meta[(data_meta['dog']==dog_names[0])]\n",
    "grouped = dog0_data.groupby(by=['date', 'dog_result'])\n",
    "group_by_result = grouped.size().unstack()\n",
    "group_by_result['TPR'] = group_by_result.TP/(group_by_result.TP+group_by_result.FN)\n",
    "group_by_result['TNR'] = group_by_result.TN/(group_by_result.TN+group_by_result.FP)\n",
    "group_by_result['total'] = (group_by_result.TP+group_by_result.FN) + (group_by_result.TN+group_by_result.FP)\n",
    "print(group_by_result)"
   ]
  },
  {
   "cell_type": "markdown",
   "metadata": {},
   "source": [
    "# Create a dataframe containing data from selected dates"
   ]
  },
  {
   "cell_type": "code",
   "execution_count": null,
   "metadata": {},
   "outputs": [],
   "source": [
    "# dog0's \"good days\" dataset (unshuffled)\n",
    "condd = data_meta['dog']==dog_names[0]\n",
    "cond0 = data_meta['date']!='2018-08-07'\n",
    "cond1 = data_meta['date']!='2018-08-21'\n",
    "cond2 = data_meta['date']!='2018-09-12'\n",
    "cond3 = data_meta['date']!='2018-10-16'\n",
    "cond4 = data_meta['date']!='2018-23-10'\n",
    "cond = condd & cond0 & cond1 & cond2 & cond3 & cond4\n",
    "selection_0 = data_meta[cond & (data_meta['class']==0)]\n",
    "selection_1 = data_meta[cond & (data_meta['class']==1)]\n",
    "print(selection_0.iloc[:,:16].head())\n",
    "print(selection_1.iloc[:,:16].head())"
   ]
  },
  {
   "cell_type": "code",
   "execution_count": null,
   "metadata": {},
   "outputs": [],
   "source": [
    "focus = dog0_data[(dog0_data.date == '2018-08-07') & (dog0_data.dog_result == 'FN')]\n",
    "focus.iloc[:,16:].T.plot.line()"
   ]
  },
  {
   "cell_type": "code",
   "execution_count": null,
   "metadata": {},
   "outputs": [],
   "source": [
    "focus = dog0_data[(dog0_data.date == '2018-08-07') & (dog0_data.dog_result == 'TN')]\n",
    "focus.iloc[:5,16:].T.plot.line()"
   ]
  },
  {
   "cell_type": "code",
   "execution_count": null,
   "metadata": {},
   "outputs": [],
   "source": [
    "focus = dog0_data[(dog0_data.date == '2018-11-06') & (dog0_data.dog_result == 'TN')]\n",
    "focus.iloc[:5,16:].T.plot.line()"
   ]
  },
  {
   "cell_type": "code",
   "execution_count": null,
   "metadata": {},
   "outputs": [],
   "source": []
  }
 ],
 "metadata": {
  "kernelspec": {
   "display_name": "Python 3",
   "language": "python",
   "name": "python3"
  },
  "language_info": {
   "codemirror_mode": {
    "name": "ipython",
    "version": 3
   },
   "file_extension": ".py",
   "mimetype": "text/x-python",
   "name": "python",
   "nbconvert_exporter": "python",
   "pygments_lexer": "ipython3",
   "version": "3.5.2"
  }
 },
 "nbformat": 4,
 "nbformat_minor": 2
}
