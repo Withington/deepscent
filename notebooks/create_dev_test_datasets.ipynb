{
 "cells": [
  {
   "cell_type": "markdown",
   "metadata": {},
   "source": [
    "# Create dev (train-test) and end test dataset"
   ]
  },
  {
   "cell_type": "code",
   "execution_count": null,
   "metadata": {},
   "outputs": [],
   "source": [
    "import datetime\n",
    "from pathlib import Path\n",
    "import configparser\n",
    "\n",
    "import numpy as np\n",
    "import matplotlib.pyplot as plt\n",
    "import pandas as pd\n",
    "from sklearn.model_selection import train_test_split\n",
    "import sklearn.utils\n",
    "\n",
    "%matplotlib inline\n",
    "\n",
    "np.random.seed(51)\n",
    "seed = 78"
   ]
  },
  {
   "cell_type": "code",
   "execution_count": null,
   "metadata": {},
   "outputs": [],
   "source": [
    "# User inputs\n",
    "do_save = True\n",
    "dog_index = 2\n",
    "filename_stem = 'private_dog2_correct_plus' # For saving to file\n",
    "data_dir = '../data/private_data'"
   ]
  },
  {
   "cell_type": "code",
   "execution_count": null,
   "metadata": {},
   "outputs": [],
   "source": [
    "df = pd.read_csv(data_dir+'/private_events_dev2/private_events_all_TRAIN_update.txt', header=None, sep=' ')\n",
    "meta = pd.read_csv(data_dir+'/private_events_dev2/private_events_all_TRAIN_update_meta.txt', sep=',', parse_dates=['date'])\n",
    "meta_header = list(meta)\n",
    "dog_names = np.sort(meta['dog'].unique())\n",
    "this_dog = dog_names[dog_index]\n",
    "print(dog_names)\n",
    "print('Selected:', this_dog)\n",
    "print(df.shape, meta.shape)\n",
    "print(meta.head())\n",
    "print(df.head())"
   ]
  },
  {
   "cell_type": "code",
   "execution_count": null,
   "metadata": {},
   "outputs": [],
   "source": [
    "# Join meta data to dataset"
   ]
  },
  {
   "cell_type": "code",
   "execution_count": null,
   "metadata": {},
   "outputs": [],
   "source": [
    "data_meta = pd.concat([meta, df], axis=1)\n",
    "data_meta.head()"
   ]
  },
  {
   "cell_type": "markdown",
   "metadata": {},
   "source": [
    "# Create datasets"
   ]
  },
  {
   "cell_type": "code",
   "execution_count": null,
   "metadata": {},
   "outputs": [],
   "source": [
    "def balanced_dataset(selection_0, selection_1):\n",
    "    ''' Return a single dataset with equal data drawn from selection 0 and 1'''\n",
    "    n0 = selection_0.count()[0]\n",
    "    n1 = selection_1.count()[0]\n",
    "    n = min(n0, n1)\n",
    "    selection_0 = selection_0.iloc[:n]\n",
    "    selection_1 = selection_1.iloc[:n]\n",
    "    selection = pd.concat([selection_0, selection_1])\n",
    "    selection = sklearn.utils.shuffle(selection)\n",
    "    return selection"
   ]
  },
  {
   "cell_type": "code",
   "execution_count": null,
   "metadata": {},
   "outputs": [],
   "source": [
    "sklearn.utils.shuffle(data_meta)\n",
    "\n",
    "# Make top-level selection of a subset of data to work with\n",
    "subset = data_meta[(data_meta['dog']==this_dog)]\n",
    "n_all = subset.shape[0]\n",
    "# Put aside data for end test\n",
    "n_end = round(n_all/4)\n",
    "end = subset[:n_end]\n",
    "dev = subset[n_end:]\n",
    "\n",
    "# From dev set (train-test set), select data where dog was correct\n",
    "dev_corr = dev[(dev['dog_result']=='TP') | (dev['dog_result']=='TN')]\n",
    "selection_0 = dev_corr[(dev_corr['class']==0)]\n",
    "selection_1 = dev_corr[(dev_corr['class']==1)]\n",
    "dev_corr_bal = balanced_dataset(selection_0, selection_1)\n",
    "# Split dev into train - test sets\n",
    "test_split = 0.25\n",
    "stratify = dev_corr_bal['class']\n",
    "dev_train, dev_test = train_test_split(dev_corr_bal, test_size=test_split, stratify=stratify, random_state=seed)\n",
    "\n",
    "# End set - create a balanced set\n",
    "selection_0 = end[(end['class']==0)]\n",
    "selection_1 = end[(end['class']==1)]\n",
    "end_bal = balanced_dataset(selection_0, selection_1)\n",
    "# End set - select where dog was incorrect and create a balanced set\n",
    "end_inc = end[(end['dog_result']=='FP') | (end['dog_result']=='FN')]\n",
    "selection_0 = end_inc[(end_inc['class']==0)]\n",
    "selection_1 = end_inc[(end_inc['class']==1)]\n",
    "end_inc_bal = balanced_dataset(selection_0, selection_1)"
   ]
  },
  {
   "cell_type": "markdown",
   "metadata": {},
   "source": [
    "# Split the dataset back out into meta and dataset "
   ]
  },
  {
   "cell_type": "code",
   "execution_count": null,
   "metadata": {},
   "outputs": [],
   "source": [
    "def to_dataset_and_meta(combo, meta_header):\n",
    "    ''' Split combo data, a combination of meta data with data, \n",
    "    back out into dataset and separate meta data '''\n",
    "    meta = combo[meta_header]\n",
    "    dataset = combo[combo.columns.difference(meta_header)]\n",
    "    print('meta', meta.shape)\n",
    "    print('dataset', dataset.shape)\n",
    "    return dataset, meta\n",
    "\n",
    "# Train\n",
    "dataset, meta = to_dataset_and_meta(dev_train, meta_header)\n",
    "if do_save:   \n",
    "    np.savetxt(filename_stem+'_TRAIN.txt', dataset.to_numpy(), fmt='%f', delimiter=' ')\n",
    "    meta.to_csv(filename_stem+'_TRAIN_meta.txt', index=False)\n",
    "# Test\n",
    "dataset, meta = to_dataset_and_meta(dev_test, meta_header)\n",
    "if do_save:   \n",
    "    np.savetxt(filename_stem+'_TEST.txt', dataset.to_numpy(), fmt='%f', delimiter=' ')\n",
    "    meta.to_csv(filename_stem+'_TEST_meta.txt', index=False)   \n",
    "# End test set\n",
    "dataset, meta = to_dataset_and_meta(end_bal, meta_header)\n",
    "if do_save:   \n",
    "    np.savetxt(filename_stem+'_END_TEST.txt', dataset.to_numpy(), fmt='%f', delimiter=' ')\n",
    "    meta.to_csv(filename_stem+'_END_TEST_meta.txt', index=False)\n",
    "# End test set, dog incorrect\n",
    "dataset, meta = to_dataset_and_meta(end_inc_bal, meta_header)\n",
    "if do_save:   \n",
    "    np.savetxt(filename_stem+'_END_TEST_dog_incorrect.txt', dataset.to_numpy(), fmt='%f', delimiter=' ')\n",
    "    meta.to_csv(filename_stem+'_END_TEST_dog_incorrect_meta.txt', index=False)  "
   ]
  },
  {
   "cell_type": "markdown",
   "metadata": {},
   "source": [
    "# Check data"
   ]
  },
  {
   "cell_type": "code",
   "execution_count": null,
   "metadata": {},
   "outputs": [],
   "source": [
    "name = filename_stem+'_END_TEST'\n",
    "dataset_file = name+'.txt'\n",
    "meta_file = name+'_meta.txt'\n",
    "df_output = pd.read_csv(dataset_file, header=None, sep=' ')\n",
    "meta_output = pd.read_csv(meta_file, sep=',', parse_dates=['date'])   \n",
    "print('Files named', name)\n",
    "print(df_output.shape, meta_output.shape)\n",
    "print('class 0:', meta_output[(meta_output['class']==0)].count()[0])\n",
    "print('class 1:', meta_output[(meta_output['class']==1)].count()[0])\n",
    "print('TP:', meta_output[(meta_output['dog_result']=='TP')].count()[0])\n",
    "print('TN:', meta_output[(meta_output['dog_result']=='TN')].count()[0])\n",
    "print(meta_output.head())\n",
    "print(df_output.head())"
   ]
  },
  {
   "cell_type": "code",
   "execution_count": null,
   "metadata": {},
   "outputs": [],
   "source": []
  }
 ],
 "metadata": {
  "kernelspec": {
   "display_name": "Python 3",
   "language": "python",
   "name": "python3"
  },
  "language_info": {
   "codemirror_mode": {
    "name": "ipython",
    "version": 3
   },
   "file_extension": ".py",
   "mimetype": "text/x-python",
   "name": "python",
   "nbconvert_exporter": "python",
   "pygments_lexer": "ipython3",
   "version": "3.5.2"
  }
 },
 "nbformat": 4,
 "nbformat_minor": 2
}
