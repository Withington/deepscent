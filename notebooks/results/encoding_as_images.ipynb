{
 "cells": [
  {
   "cell_type": "markdown",
   "metadata": {},
   "source": [
    "# Encoding time series data as images\n",
    "\n",
    "[![(Open In Colab)](https://colab.research.google.com/assets/colab-badge.svg)](https://colab.research.google.com/github/Withington/deepscent/blob/master/notebooks/results/encoding_as_images.ipynb)"
   ]
  },
  {
   "cell_type": "code",
   "execution_count": null,
   "metadata": {
    "colab": {
     "base_uri": "https://localhost:8080/",
     "height": 70
    },
    "colab_type": "code",
    "id": "Efvml1VuQZxU",
    "outputId": "26f6e82e-4e72-4416-fca9-01fec9513af4"
   },
   "outputs": [],
   "source": [
    "!pip install pyts\n",
    "\n",
    "from pathlib import Path\n",
    "\n",
    "import numpy as np\n",
    "import matplotlib.pyplot as plt\n",
    "from pyts.image import GramianAngularField, MarkovTransitionField, RecurrencePlot\n",
    "import pandas as pd\n",
    "from mpl_toolkits.axes_grid1 import ImageGrid\n",
    "import seaborn as sns\n",
    "\n",
    "import math\n",
    "import numpy as np\n",
    "from datetime import datetime, timedelta\n",
    "import scipy"
   ]
  },
  {
   "cell_type": "code",
   "execution_count": null,
   "metadata": {
    "colab": {
     "base_uri": "https://localhost:8080/",
     "height": 70
    },
    "colab_type": "code",
    "id": "5e2dEIhNW02q",
    "outputId": "207dc530-796a-4aef-f1a2-22f297242ade"
   },
   "outputs": [],
   "source": [
    "# Load the dataset\n",
    "load_from_web = True\n",
    "\n",
    "if load_from_web:\n",
    "    url_data_dir = 'https://raw.githubusercontent.com/Withington/deepscent/master/data'\n",
    "    url = url_data_dir+'/GunPoint/GunPoint_TRAIN.txt'\n",
    "    sep = '  '\n",
    "    df = pd.read_csv(url, sep=sep, header=None)\n",
    "    data = df.values\n",
    "    sample_title = 'UCR TSC archive: GunPoint time series data sample'\n",
    "    data_samples = data[:,1:]\n",
    "    ticks = np.arange(0, 141, 20)\n",
    "else:\n",
    "    data = np.loadtxt(Path('../../data/private_data/private_events_dev2/private_dog0_correct_plus/private_dog0_correct_plus_TEST.txt'))\n",
    "    sample_title = 'Example pressure sensor time series data'\n",
    "    data_samples = data[:,1:201]\n",
    "    ticks = np.arange(0, 201, 50)\n",
    "    \n",
    "X_sample = data_samples[0,:]\n",
    "X = X_sample.reshape(1, -1)"
   ]
  },
  {
   "cell_type": "code",
   "execution_count": null,
   "metadata": {
    "colab": {
     "base_uri": "https://localhost:8080/",
     "height": 412
    },
    "colab_type": "code",
    "id": "JuacFA0GQY4z",
    "outputId": "506f12bf-bef0-4645-de7e-3ce5e2bc8ddb"
   },
   "outputs": [],
   "source": [
    "# Transform the time series into Gramian Angular Fields\n",
    "gasf = GramianAngularField(method='summation') # summation is default\n",
    "X_gasf = gasf.fit_transform(X)\n",
    "gadf = GramianAngularField(method='difference')\n",
    "X_gadf = gadf.fit_transform(X)\n",
    "\n",
    "# Show the images for the first time series\n",
    "fig = plt.figure(figsize=(12, 7))\n",
    "grid = ImageGrid(fig, 111,\n",
    "                 nrows_ncols=(1, 2),\n",
    "                 axes_pad=0.15,\n",
    "                 share_all=True,\n",
    "                 cbar_location=\"right\",\n",
    "                 cbar_mode=\"single\",\n",
    "                 cbar_size=\"7%\",\n",
    "                 cbar_pad=0.3,\n",
    "                 )\n",
    "images = [X_gasf[0], X_gadf[0]]\n",
    "titles = ['Gramian Angular Summation Field',\n",
    "          'Gramian Angular Difference Field']\n",
    "for image, title, ax in zip(images, titles, grid):\n",
    "    im = ax.imshow(image, cmap='rainbow', origin='lower')\n",
    "    ax.set_title(title, fontdict={'fontsize': 16})\n",
    "ax.cax.colorbar(im)\n",
    "ax.cax.toggle_label(True)\n",
    "\n",
    "plt.suptitle('Gramian Angular Fields', y=0.92, fontsize=20)\n",
    "plt.show()"
   ]
  },
  {
   "cell_type": "code",
   "execution_count": null,
   "metadata": {
    "colab": {
     "base_uri": "https://localhost:8080/",
     "height": 374
    },
    "colab_type": "code",
    "id": "bbgFmE6mYlni",
    "outputId": "dd6ace4d-224a-4cdc-fe1f-e9497fb57f8c"
   },
   "outputs": [],
   "source": [
    "# Show X_gasf\n",
    "plt.figure(figsize=(6, 6))\n",
    "plt.imshow(X_gasf[0], cmap='rainbow', origin='lower')\n",
    "plt.title('Gramian Angular Field', fontsize=18)\n",
    "plt.colorbar(fraction=0.0457, pad=0.04)\n",
    "plt.show()"
   ]
  },
  {
   "cell_type": "code",
   "execution_count": null,
   "metadata": {
    "colab": {
     "base_uri": "https://localhost:8080/",
     "height": 390
    },
    "colab_type": "code",
    "id": "N7h9ROe-QWK6",
    "outputId": "1f34707b-d98b-418f-a6f5-86979504cbed"
   },
   "outputs": [],
   "source": [
    "# Recurrence plot transformation\n",
    "rp = RecurrencePlot()#dimension=1)#, threshold='percentage_points', percentage=1)\n",
    "X_rp = rp.fit_transform(X)\n",
    "print(X_rp.shape)\n",
    "\n",
    "# Show the results for the first time series\n",
    "plt.figure(figsize=(6, 6))\n",
    "plt.imshow(X_rp[0], cmap='rainbow', origin='lower')\n",
    "plt.title('Recurrence Plot', fontsize=18)\n",
    "plt.colorbar(fraction=0.0457, pad=0.04)\n",
    "plt.show()"
   ]
  },
  {
   "cell_type": "code",
   "execution_count": null,
   "metadata": {
    "colab": {
     "base_uri": "https://localhost:8080/",
     "height": 390
    },
    "colab_type": "code",
    "id": "bLiva92oRp0w",
    "outputId": "f98dbbae-bf89-4559-c7c1-49dbbfa816b0"
   },
   "outputs": [],
   "source": [
    "# MTF transformation\n",
    "mtf = MarkovTransitionField()\n",
    "X_mtf = mtf.fit_transform(X)\n",
    "print(X_mtf.shape)\n",
    "\n",
    "# Show the image for the first time series\n",
    "plt.figure(figsize=(6, 6))\n",
    "plt.imshow(X_mtf[0], cmap='rainbow', origin='lower')\n",
    "plt.title('Markov Transition Field', fontsize=18)\n",
    "plt.colorbar(fraction=0.0457, pad=0.04)\n",
    "plt.show()"
   ]
  },
  {
   "cell_type": "code",
   "execution_count": null,
   "metadata": {
    "colab": {
     "base_uri": "https://localhost:8080/",
     "height": 258
    },
    "colab_type": "code",
    "id": "p0bIQLZESEhf",
    "outputId": "74c20102-9ba2-4493-d300-ba0b2a1f9029"
   },
   "outputs": [],
   "source": [
    "fig = plt.figure(figsize=(10, 4))\n",
    "ax0 = fig.add_subplot(131)\n",
    "ax1 = fig.add_subplot(132, sharey=ax0)\n",
    "ax2 = fig.add_subplot(133, sharey=ax0)\n",
    "\n",
    "\n",
    "# Recurrence Plot\n",
    "plt.figure(figsize=(6, 6))\n",
    "ax0.imshow(X_rp[0], cmap='rainbow', origin='lower')\n",
    "ax0.set_title('Recurrence Plot')\n",
    "\n",
    "# GAF\n",
    "ax1.imshow(X_gasf[0], cmap='rainbow', origin='lower')\n",
    "ax1.set_title('Gramian Angular Field')\n",
    "\n",
    "# MTF\n",
    "ax2.imshow(X_mtf[0], cmap='rainbow', origin='lower')\n",
    "ax2.set_title('Markov Transition Field')\n",
    "\n",
    "label = 'Data point number'\n",
    "ax0.set_xticks(ticks)\n",
    "ax1.set_xticks(ticks)\n",
    "ax2.set_xticks(ticks)\n",
    "\n",
    "ax0.set_yticks(ticks)\n",
    "ax1.set_yticks(ticks)\n",
    "ax2.set_yticks(ticks)\n",
    "\n",
    "ax0.set_ylabel(label)\n",
    "ax0.set_xlabel(label)\n",
    "ax1.set_xlabel(label)\n",
    "ax2.set_xlabel(label)\n",
    "\n",
    "plt.show();\n",
    "fig.savefig('image_encodings.png', bbox_inches='tight');"
   ]
  },
  {
   "cell_type": "code",
   "execution_count": null,
   "metadata": {
    "colab": {
     "base_uri": "https://localhost:8080/",
     "height": 241
    },
    "colab_type": "code",
    "id": "jXoE2nSgZ7J-",
    "outputId": "288f89b5-d7ea-45d4-d1ce-9cfa6a57ff9e"
   },
   "outputs": [],
   "source": [
    "fig = plt.figure(figsize=(10, 3))\n",
    "plt.plot(X_sample)\n",
    "plt.xlabel(label)\n",
    "plt.ylabel('Data point value')\n",
    "plt.title(sample_title)\n",
    "plt.savefig('time_series.png', bbox_inches='tight');"
   ]
  },
  {
   "cell_type": "code",
   "execution_count": null,
   "metadata": {
    "colab": {},
    "colab_type": "code",
    "id": "VHFcganpdVDa"
   },
   "outputs": [],
   "source": []
  }
 ],
 "metadata": {
  "colab": {
   "name": "encoding_as_image.ipynb",
   "provenance": [],
   "version": "0.3.2"
  },
  "kernelspec": {
   "display_name": "Python 3",
   "language": "python",
   "name": "python3"
  },
  "language_info": {
   "codemirror_mode": {
    "name": "ipython",
    "version": 3
   },
   "file_extension": ".py",
   "mimetype": "text/x-python",
   "name": "python",
   "nbconvert_exporter": "python",
   "pygments_lexer": "ipython3",
   "version": "3.5.2"
  }
 },
 "nbformat": 4,
 "nbformat_minor": 1
}
