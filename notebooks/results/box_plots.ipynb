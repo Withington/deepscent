{
 "cells": [
  {
   "cell_type": "markdown",
   "metadata": {},
   "source": [
    "# Results"
   ]
  },
  {
   "cell_type": "code",
   "execution_count": null,
   "metadata": {},
   "outputs": [],
   "source": [
    "import os\n",
    "from pathlib import Path\n",
    "import time\n",
    "from datetime import datetime\n",
    "import itertools\n",
    "\n",
    "import numpy as np\n",
    "import pandas as pd\n",
    "\n",
    "import matplotlib.pyplot as plt\n",
    "from matplotlib.ticker import FuncFormatter\n",
    "import seaborn as sns\n",
    "from sklearn.model_selection import KFold, RepeatedKFold\n",
    "from sklearn import preprocessing\n",
    "from sklearn.metrics import confusion_matrix, roc_curve, roc_auc_score, classification_report"
   ]
  },
  {
   "cell_type": "code",
   "execution_count": null,
   "metadata": {},
   "outputs": [],
   "source": [
    "sns.set(style=\"whitegrid\")\n",
    "def format_plot(ax, plt):\n",
    "    ax.set_ylabel('validation accuracy')\n",
    "    plt.ylim(bottom=0.35)\n",
    "    ax.yaxis.set_major_formatter(FuncFormatter('{0:.0%}'.format))\n",
    "    plt.tight_layout()"
   ]
  },
  {
   "cell_type": "markdown",
   "metadata": {},
   "source": [
    "## MLP"
   ]
  },
  {
   "cell_type": "code",
   "execution_count": null,
   "metadata": {},
   "outputs": [],
   "source": [
    "file = '../../logs/2019-03-17T16:35/GunPoint/mlpwang_summary.csv'\n",
    "data1 = pd.read_csv(file, header=None, names=['run','loss','val_acc','epoch','time'])\n",
    "name1 = 'GunPoint'\n",
    "\n",
    "file = '../../logs/2019-03-17T14:56/private_dog0/mlpwang_summary.csv'\n",
    "data2 = pd.read_csv(file, header=None, names=['run','loss','val_acc','epoch','time'])\n",
    "name2 = 'dog0'\n",
    "\n",
    "file = '../../logs/2019-03-17T18:16/private_dog0_correct/mlpwang_summary.csv'\n",
    "data3 = pd.read_csv(file, header=None, names=['run','loss','val_acc','epoch','time'])\n",
    "name3 = 'dog0_correct'\n",
    "\n",
    "all_data = [data1['val_acc'], data2['val_acc'], data3['val_acc']]\n",
    "ax = sns.boxplot(data=all_data)\n",
    "ax = sns.swarmplot(data=all_data, color='black')\n",
    "ax.set_xlabel('MLP')\n",
    "plt.xticks([0, 1, 2], [name1, name2, name3])\n",
    "format_plot(ax, plt)\n",
    "plt.savefig('boxplot_mlpnet.png', bbox_inches='tight')"
   ]
  },
  {
   "cell_type": "markdown",
   "metadata": {},
   "source": [
    "## ResNet"
   ]
  },
  {
   "cell_type": "code",
   "execution_count": null,
   "metadata": {},
   "outputs": [],
   "source": [
    "file = '../../logs/2019-03-18T17:32/GunPoint/resnet_summary.csv'\n",
    "data1 = pd.read_csv(file, header=None, names=['run','loss','val_acc','epoch','time'])\n",
    "name1 = 'GunPoint'\n",
    "\n",
    "file = '../../logs/2019-03-20T19:47/private_balanced/resnet_summary.csv'\n",
    "data11 = pd.read_csv(file, header=None, names=['run','loss','val_acc','epoch','time'])\n",
    "name11 = 'all_dogs'\n",
    "\n",
    "file = '../../logs/2019-03-18T19:12/private_dog0/resnet_summary.csv'\n",
    "data2 = pd.read_csv(file, header=None, names=['run','loss','val_acc','epoch','time'])\n",
    "name2 = 'dog0'\n",
    "\n",
    "file = '../../logs/2019-03-16T19:35/private_dog0_correct/resnet_summary.csv'\n",
    "data3 = pd.read_csv(file, header=None, names=['run','loss','val_acc','epoch','time'])\n",
    "name3 = 'dog0_correct'\n",
    "\n",
    "all_data = [data1['val_acc'], data11['val_acc'], data2['val_acc'], data3['val_acc']]\n",
    "ax = sns.boxplot(data=all_data)\n",
    "ax = sns.swarmplot(data=all_data, color='black')\n",
    "ax.set_xlabel('ResNet')\n",
    "plt.xticks([0, 1, 2, 3], [name1, name11, name2, name3])\n",
    "format_plot(ax, plt)\n",
    "plt.savefig('boxplot_resnet.png', bbox_inches='tight')"
   ]
  },
  {
   "cell_type": "markdown",
   "metadata": {},
   "source": [
    "## DevNet"
   ]
  },
  {
   "cell_type": "code",
   "execution_count": null,
   "metadata": {},
   "outputs": [],
   "source": [
    "file = '../../logs/2019-03-17T13:33/private_dog0/devnet_summary.csv'\n",
    "data1 = pd.read_csv(file, header=None, names=['run','loss','val_acc','epoch','time'])\n",
    "name1 = 'dog0'\n",
    "\n",
    "file = '../../logs/2019-03-17T12:59/private_dog0_correct/devnet_summary.csv'\n",
    "data2 = pd.read_csv(file, header=None, names=['run','loss','val_acc','epoch','time'])\n",
    "name2 = 'dog0_correct'\n",
    "\n",
    "all_data = [data1['val_acc'], data2['val_acc']]\n",
    "ax = sns.boxplot(data=all_data)\n",
    "ax = sns.swarmplot(data=all_data, color='black')\n",
    "ax.set_xlabel('DevNet')\n",
    "plt.xticks([0, 1], [name1, name2])\n",
    "format_plot(ax, plt)\n",
    "plt.savefig('boxplot_devnet.png', bbox_inches='tight')"
   ]
  },
  {
   "cell_type": "code",
   "execution_count": null,
   "metadata": {},
   "outputs": [],
   "source": []
  }
 ],
 "metadata": {
  "kernelspec": {
   "display_name": "Python 3",
   "language": "python",
   "name": "python3"
  },
  "language_info": {
   "codemirror_mode": {
    "name": "ipython",
    "version": 3
   },
   "file_extension": ".py",
   "mimetype": "text/x-python",
   "name": "python",
   "nbconvert_exporter": "python",
   "pygments_lexer": "ipython3",
   "version": "3.5.2"
  }
 },
 "nbformat": 4,
 "nbformat_minor": 2
}
