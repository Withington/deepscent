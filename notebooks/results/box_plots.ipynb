{
 "cells": [
  {
   "cell_type": "markdown",
   "metadata": {},
   "source": [
    "# Results"
   ]
  },
  {
   "cell_type": "code",
   "execution_count": null,
   "metadata": {},
   "outputs": [],
   "source": [
    "import os\n",
    "from pathlib import Path\n",
    "import time\n",
    "from datetime import datetime\n",
    "import itertools\n",
    "\n",
    "import numpy as np\n",
    "import pandas as pd\n",
    "\n",
    "import matplotlib.pyplot as plt\n",
    "from matplotlib.ticker import FuncFormatter\n",
    "import seaborn as sns\n",
    "from sklearn.model_selection import KFold, RepeatedStratifiedKFold\n",
    "from sklearn import preprocessing\n",
    "from sklearn.metrics import confusion_matrix, roc_curve, roc_auc_score, classification_report"
   ]
  },
  {
   "cell_type": "code",
   "execution_count": null,
   "metadata": {},
   "outputs": [],
   "source": [
    "sns.set(style=\"whitegrid\")\n",
    "colors = sns.color_palette()\n",
    "colorsp1 = colors\n",
    "colorsp1.pop(0)\n",
    "colorsp1.append(colors[0])\n",
    "def format_plot(ax, plt):\n",
    "    ax.set_ylabel('validation accuracy')\n",
    "    plt.ylim(bottom=0.35, top=1.05)\n",
    "    ax.yaxis.set_major_formatter(FuncFormatter('{0:.0%}'.format))\n",
    "    ax.set_xlabel('Dataset')\n",
    "    plt.tight_layout()\n",
    "    \n",
    "def print_stats(data, name):\n",
    "    print(name,  ':')\n",
    "    print('Quantiles:\\n', data['val_acc'].quantile([0.25, 0.5, 0.75]) )\n",
    "    print('Mean:', data['val_acc'].mean())\n",
    "    \n",
    "def print_means(data, names):\n",
    "    print('Mean averages:')\n",
    "    for d, n, in zip(data, names):\n",
    "        print(d['val_acc'].mean(), n)"
   ]
  },
  {
   "cell_type": "markdown",
   "metadata": {},
   "source": [
    "## Cross fold validation example result set"
   ]
  },
  {
   "cell_type": "code",
   "execution_count": null,
   "metadata": {},
   "outputs": [],
   "source": [
    "file = '../../logs/2019-03-17T16:35/GunPoint/mlpwang_summary.csv'\n",
    "data1 = pd.read_csv(file, header=None, names=['run','loss','val_acc','epoch','time'])\n",
    "name1 = 'GunPoint'\n",
    "\n",
    "file = '../../logs/2019-03-21T09:07/WormsTwoClass/mlpwang_summary.csv'\n",
    "data2 = pd.read_csv(file, header=None, names=['run','loss','val_acc','epoch','time'])\n",
    "name2 = 'WormsTwoClass'\n",
    "\n",
    "file = '../../logs/2019-03-17T18:16/private_dog0_correct/mlpwang_summary.csv'\n",
    "data3 = pd.read_csv(file, header=None, names=['run','loss','val_acc','epoch','time'])\n",
    "name3 = 'dog0_correct'\n",
    "\n",
    "all_data = [data3['val_acc']]\n",
    "ax = sns.boxplot(data=all_data, width=0.2)\n",
    "ax = sns.swarmplot(data=all_data, color='black')\n",
    "plt.xticks([0], [''])\n",
    "format_plot(ax, plt)\n",
    "plt.suptitle('10-fold cross validation result')\n",
    "plt.savefig('boxplot_crossfold.png', bbox_inches='tight')\n",
    "print_stats(data3, name3)"
   ]
  },
  {
   "cell_type": "markdown",
   "metadata": {},
   "source": [
    "# GunPoint"
   ]
  },
  {
   "cell_type": "code",
   "execution_count": null,
   "metadata": {},
   "outputs": [],
   "source": [
    "file = '../../logs/2019-03-17T16:35/GunPoint/mlpwang_summary.csv'\n",
    "data1 = pd.read_csv(file, header=None, names=['run','loss','val_acc','epoch','time'])\n",
    "name1 = 'MLP'\n",
    "\n",
    "file = '../../logs/2019-03-18T17:32/GunPoint/resnet_summary.csv'\n",
    "data2 = pd.read_csv(file, header=None, names=['run','loss','val_acc','epoch','time'])\n",
    "name2 = 'ResNet'\n",
    "\n",
    "all_data = [data1['val_acc'], data2['val_acc']]\n",
    "ax = sns.boxplot(data=all_data)\n",
    "ax = sns.swarmplot(data=all_data, color='black')\n",
    "plt.suptitle('GunPoint dataset')\n",
    "plt.xticks([0, 1], [name1, name2])\n",
    "format_plot(ax, plt)\n",
    "ax.set_xlabel('DNN')\n",
    "plt.ylim(bottom=0.80, top=1.04)\n",
    "plt.savefig('boxplot_gunpoint.png', bbox_inches='tight')\n",
    "print_stats(data1, name1)\n",
    "print_stats(data2, name2)"
   ]
  },
  {
   "cell_type": "markdown",
   "metadata": {},
   "source": [
    "## MLP"
   ]
  },
  {
   "cell_type": "code",
   "execution_count": null,
   "metadata": {},
   "outputs": [],
   "source": [
    "file = '../../logs/2019-03-17T16:35/GunPoint/mlpwang_summary.csv'\n",
    "data1 = pd.read_csv(file, header=None, names=['run','loss','val_acc','epoch','time'])\n",
    "name1 = 'GunPoint'\n",
    "\n",
    "file = '../../logs/2019-03-21T14:23/private_balanced/mlpwang_summary.csv'\n",
    "data11 = pd.read_csv(file, header=None, names=['run','loss','val_acc','epoch','time'])\n",
    "name11 = 'all_dogs'\n",
    "\n",
    "file = '../../logs/2019-03-17T14:56/private_dog0/mlpwang_summary.csv'\n",
    "data2 = pd.read_csv(file, header=None, names=['run','loss','val_acc','epoch','time'])\n",
    "name2 = 'dog0'\n",
    "\n",
    "file = '../../logs/2019-03-17T18:16/private_dog0_correct/mlpwang_summary.csv'\n",
    "data3 = pd.read_csv(file, header=None, names=['run','loss','val_acc','epoch','time'])\n",
    "name3 = 'dog0_correct'\n",
    "\n",
    "all_data = [data1['val_acc'], data11['val_acc'], data2['val_acc'], data3['val_acc']]\n",
    "ax = sns.boxplot(data=all_data)\n",
    "ax = sns.swarmplot(data=all_data, color='black')\n",
    "plt.suptitle('MLP')\n",
    "plt.xticks([0, 1, 2, 3], [name1, name11, name2, name3])\n",
    "format_plot(ax, plt)\n",
    "plt.savefig('boxplot_mlpnet.png', bbox_inches='tight')\n",
    "print_stats(data1, name1)\n",
    "print_means([data1, data11, data2, data3], [name1, name11, name2, name3])"
   ]
  },
  {
   "cell_type": "markdown",
   "metadata": {},
   "source": [
    "## ResNet"
   ]
  },
  {
   "cell_type": "code",
   "execution_count": null,
   "metadata": {
    "scrolled": true
   },
   "outputs": [],
   "source": [
    "file = '../../logs/2019-03-18T17:32/GunPoint/resnet_summary.csv'\n",
    "data1 = pd.read_csv(file, header=None, names=['run','loss','val_acc','epoch','time'])\n",
    "name1 = 'GunPoint'\n",
    "\n",
    "file = '../../logs/2019-03-20T19:47/private_balanced/resnet_summary.csv'\n",
    "data11 = pd.read_csv(file, header=None, names=['run','loss','val_acc','epoch','time'])\n",
    "name11 = 'all_dogs'\n",
    "\n",
    "file = '../../logs/2019-03-18T19:12/private_dog0/resnet_summary.csv'\n",
    "data2 = pd.read_csv(file, header=None, names=['run','loss','val_acc','epoch','time'])\n",
    "name2 = 'dog0'\n",
    "\n",
    "file = '../../logs/2019-03-16T19:35/private_dog0_correct/resnet_summary.csv'\n",
    "data3 = pd.read_csv(file, header=None, names=['run','loss','val_acc','epoch','time'])\n",
    "name3 = 'dog0_correct'\n",
    "\n",
    "all_data = [data1['val_acc'], data11['val_acc'], data2['val_acc'], data3['val_acc']]\n",
    "ax = sns.boxplot(data=all_data)\n",
    "ax = sns.swarmplot(data=all_data, color='black')\n",
    "plt.suptitle('ResNet')\n",
    "plt.xticks([0, 1, 2, 3], [name1, name11, name2, name3])\n",
    "format_plot(ax, plt)\n",
    "plt.savefig('boxplot_resnet.png', bbox_inches='tight')\n",
    "print_means([data1, data11, data2, data3], [name1, name11, name2, name3])"
   ]
  },
  {
   "cell_type": "markdown",
   "metadata": {},
   "source": [
    "## DevNet"
   ]
  },
  {
   "cell_type": "code",
   "execution_count": null,
   "metadata": {},
   "outputs": [],
   "source": [
    "file = '../../logs/2019-03-21T07:55/private_balanced/devnet_summary.csv'\n",
    "data0 = pd.read_csv(file, header=None, names=['run','loss','val_acc','epoch','time'])\n",
    "name0 = 'all_dogs'\n",
    "\n",
    "file = '../../logs/2019-03-17T13:33/private_dog0/devnet_summary.csv'\n",
    "data1 = pd.read_csv(file, header=None, names=['run','loss','val_acc','epoch','time'])\n",
    "name1 = 'dog0'\n",
    "\n",
    "file = '../../logs/2019-03-17T12:59/private_dog0_correct/devnet_summary.csv'\n",
    "data2 = pd.read_csv(file, header=None, names=['run','loss','val_acc','epoch','time'])\n",
    "name2 = 'dog0_correct'\n",
    "\n",
    "all_data = [data0['val_acc'], data1['val_acc'], data2['val_acc']]\n",
    "ax = sns.boxplot(data=all_data, palette=colorsp1)\n",
    "ax = sns.swarmplot(data=all_data, color='black')\n",
    "plt.suptitle('DevNet')\n",
    "plt.xticks([0, 1, 2], [name0, name1, name2])\n",
    "format_plot(ax, plt)\n",
    "plt.savefig('boxplot_devnet.png', bbox_inches='tight')\n",
    "print_stats(data2, name2)\n",
    "print_means([data0, data1, data2], [name0, name1, name2])"
   ]
  },
  {
   "cell_type": "markdown",
   "metadata": {},
   "source": [
    "## Helper function"
   ]
  },
  {
   "cell_type": "code",
   "execution_count": null,
   "metadata": {},
   "outputs": [],
   "source": [
    "def box_plots(files, names, title):\n",
    "    all_data = []\n",
    "    ticks = range(len(files))\n",
    "    print('Mean average val_acc:')\n",
    "    for file, name in zip(files, names):\n",
    "        all_data.append(pd.read_csv(file, header=None, names=['run','loss','val_acc','epoch','time'])['val_acc'])\n",
    "        print(name, all_data[-1].mean())\n",
    "    ax = sns.boxplot(data=all_data)\n",
    "    ax = sns.swarmplot(data=all_data, color='black')\n",
    "    plt.suptitle(title)\n",
    "    plt.xticks(ticks, names)\n",
    "    format_plot(ax, plt)\n",
    "    plt.savefig('boxplot_'+title+'.png', bbox_inches='tight')"
   ]
  },
  {
   "cell_type": "markdown",
   "metadata": {},
   "source": [
    "# MLP dog correct datasets"
   ]
  },
  {
   "cell_type": "code",
   "execution_count": null,
   "metadata": {},
   "outputs": [],
   "source": [
    "files = []   \n",
    "names = []\n",
    "files.append('../../logs/2019-03-17T18:16/private_dog0_correct/mlpwang_summary.csv')\n",
    "names.append('dog0_correct')\n",
    "files.append('../../logs/2019-03-23T19:47/private_dog2_correct/mlpwang_summary.csv')\n",
    "names.append('dog2_correct')\n",
    "box_plots(files, names, 'MLP')"
   ]
  },
  {
   "cell_type": "code",
   "execution_count": null,
   "metadata": {},
   "outputs": [],
   "source": [
    "# MLP by dog\n",
    "files = []   \n",
    "names = []\n",
    "files.append('../../logs/2019-03-17T14:56/private_dog0/mlpwang_summary.csv')\n",
    "names.append('dog0')\n",
    "files.append('../../logs/2019-03-23T08:51/private_dog1/mlpwang_summary.csv')\n",
    "names.append('dog1')\n",
    "files.append('../../logs/2019-03-23T22:02/private_dog2/mlpwang_summary.csv')\n",
    "names.append('dog2')\n",
    "box_plots(files, names, 'MLP')"
   ]
  },
  {
   "cell_type": "code",
   "execution_count": null,
   "metadata": {},
   "outputs": [],
   "source": [
    "# ResNet by dog correct\n",
    "files = []   \n",
    "names = []\n",
    "files.append('../../logs/2019-03-16T19:35/private_dog0_correct/resnet_summary.csv')\n",
    "names.append('dog0_correct')\n",
    "#files.append('../../logs/2019-03-23T08:51/private_dog1/mlpwang_summary.csv')\n",
    "#names.append('dog1')\n",
    "files.append('../../logs/2019-03-23T17:39/private_dog2_correct/resnet_summary.csv')\n",
    "names.append('dog2_correct')\n",
    "box_plots(files, names, 'ResNet')"
   ]
  },
  {
   "cell_type": "code",
   "execution_count": null,
   "metadata": {},
   "outputs": [],
   "source": [
    "# ResNet by dog\n",
    "files = []   \n",
    "names = []\n",
    "files.append('../../logs/2019-03-18T19:12/private_dog0/resnet_summary.csv')\n",
    "names.append('dog0')\n",
    "files.append('../../logs/2019-03-23T10:18/private_dog1/resnet_summary.csv')\n",
    "names.append('dog1')\n",
    "files.append('../../logs/2019-03-23T13:48/private_dog2/resnet_summary.csv')\n",
    "names.append('dog2')\n",
    "box_plots(files, names, 'ResNet')"
   ]
  },
  {
   "cell_type": "code",
   "execution_count": null,
   "metadata": {},
   "outputs": [],
   "source": [
    "# DevNet by dog correct\n",
    "files = []   \n",
    "names = []\n",
    "files.append('../../logs/2019-03-17T12:59/private_dog0_correct/devnet_summary.csv')\n",
    "names.append('dog0_correct')\n",
    "files.append('../../logs/2019-03-24T07:31/private_dog1_correct/devnet_summary.csv')\n",
    "names.append('dog1_correct')\n",
    "files.append('../../logs/2019-03-24T07:46/private_dog2_correct/devnet_summary.csv')\n",
    "names.append('dog2_correct')\n",
    "box_plots(files, names, 'DevNet')"
   ]
  },
  {
   "cell_type": "code",
   "execution_count": null,
   "metadata": {},
   "outputs": [],
   "source": [
    "# DevNet by dog\n",
    "files = []   \n",
    "names = []\n",
    "files.append('../../logs/2019-03-17T13:33/private_dog0/devnet_summary.csv')\n",
    "names.append('dog0')\n",
    "#files.append('../../logs/2019-03-24T07:31/private_dog1/devnet_summary.csv')\n",
    "#names.append('dog1')\n",
    "#files.append('../../logs/2019-03-24T07:46/private_dog2/devnet_summary.csv')\n",
    "#names.append('dog2')\n",
    "box_plots(files, names, 'DevNet')"
   ]
  },
  {
   "cell_type": "code",
   "execution_count": null,
   "metadata": {},
   "outputs": [],
   "source": []
  },
  {
   "cell_type": "code",
   "execution_count": null,
   "metadata": {},
   "outputs": [],
   "source": []
  }
 ],
 "metadata": {
  "kernelspec": {
   "display_name": "Python 3",
   "language": "python",
   "name": "python3"
  },
  "language_info": {
   "codemirror_mode": {
    "name": "ipython",
    "version": 3
   },
   "file_extension": ".py",
   "mimetype": "text/x-python",
   "name": "python",
   "nbconvert_exporter": "python",
   "pygments_lexer": "ipython3",
   "version": "3.5.2"
  }
 },
 "nbformat": 4,
 "nbformat_minor": 2
}
