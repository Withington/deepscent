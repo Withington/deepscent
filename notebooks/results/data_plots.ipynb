{
 "cells": [
  {
   "cell_type": "markdown",
   "metadata": {},
   "source": [
    "# Visualise the data"
   ]
  },
  {
   "cell_type": "code",
   "execution_count": null,
   "metadata": {},
   "outputs": [],
   "source": [
    "import os\n",
    "import pathlib\n",
    "import time\n",
    "import itertools\n",
    "from datetime import datetime\n",
    "\n",
    "import numpy as np\n",
    "import pandas as pd\n",
    "import matplotlib.pyplot as plt\n",
    "import seaborn as sns\n"
   ]
  },
  {
   "cell_type": "code",
   "execution_count": null,
   "metadata": {},
   "outputs": [],
   "source": [
    "flist = ['private_dog2']  # List dataset directory names. WormsTwoClass Lightning2 Earthquakes GunPoint \n",
    "# Input directory\n",
    "if 'private' in flist[0]:\n",
    "    fdir = '../../data/private_data/private_events_dev' \n",
    "else:\n",
    "    fdir = '../../data' \n",
    "sns.set(style=\"whitegrid\")"
   ]
  },
  {
   "cell_type": "code",
   "execution_count": null,
   "metadata": {},
   "outputs": [],
   "source": [
    "def readucr(filename):\n",
    "    data = np.loadtxt(filename)\n",
    "    Y = data[:,0]\n",
    "    X = data[:,1:]\n",
    "    return X, Y"
   ]
  },
  {
   "cell_type": "code",
   "execution_count": null,
   "metadata": {},
   "outputs": [],
   "source": [
    "fname = flist[0]\n",
    "x_train, y_train = readucr(fdir+'/'+fname+'/'+fname+'_TRAIN.txt')\n",
    "x_test, y_test = readucr(fdir+'/'+fname+'/'+fname+'_TEST.txt')\n",
    "print('Train shape:', x_train.shape)\n",
    "print('Test shape:', x_test.shape)\n",
    "ydf_train = pd.DataFrame(y_train)\n",
    "ydf_test = pd.DataFrame(y_test)\n",
    "classes = ydf_train[0].unique()\n",
    "classes = np.sort(classes)\n",
    "print('Class labels are', classes)\n",
    "n0_train = ydf_train[ydf_train[0] == classes[0]][0].count()\n",
    "n1_train = ydf_train[ydf_train[0] == classes[1]][0].count()\n",
    "n0_test = ydf_test[ydf_test[0] == classes[0]][0].count()\n",
    "n1_test = ydf_test[ydf_test[0] == classes[1]][0].count()\n",
    "print('Number of samples in each class:')\n",
    "print('Train:', n0_train, ',', n1_train)\n",
    "print('Test:', n0_test, ',', n1_test)"
   ]
  },
  {
   "cell_type": "code",
   "execution_count": null,
   "metadata": {},
   "outputs": [],
   "source": [
    "xdf_train = pd.DataFrame(x_train)\n",
    "train = pd.DataFrame(xdf_train)\n",
    "train['class'] = ydf_train[0]\n",
    "train_0 = train[(train['class'] == classes[0])]\n",
    "train_1 = train[(train['class'] == classes[1])]\n",
    "fig = plt.figure()\n",
    "ax = fig.add_subplot(111)\n",
    "rand = int(np.random.rand()*min(n0_train, n1_train))\n",
    "n = x_train.shape[1]\n",
    "plt.plot(train_0.iloc[rand][:n], label='class '+str(int((train_0.iloc[rand]['class']))))\n",
    "plt.plot(train_1.iloc[rand][:n], label='class '+str(int(train_1.iloc[rand]['class'])))\n",
    "plt.legend(loc='upper right', frameon=False)\n",
    "plt.suptitle(fname)\n",
    "ax.set_xlabel('time, t')\n",
    "ax.set_ylabel('x(t)')"
   ]
  },
  {
   "cell_type": "markdown",
   "metadata": {},
   "source": [
    "## Compare classes"
   ]
  },
  {
   "cell_type": "code",
   "execution_count": null,
   "metadata": {},
   "outputs": [],
   "source": [
    "n_plots = 20\n",
    "fig, ax = plt.subplots(n_plots, 2, sharex='col', sharey='row', figsize=(10, 10))\n",
    "for j in range(n_plots):\n",
    "    ax[j, 0].plot(train_0.iloc[j][:n], label='class'+str(train_0.iloc[j]['class']))\n",
    "    ax[j, 1].plot(train_1.iloc[j][:n], label='class'+str(train_1.iloc[j]['class']), color='darkorange')\n",
    "    #ax[j, 0].set_ylabel('x(t)')\n",
    "    ax[j, 0].set_ylim(bottom=0, top=2.2)\n",
    "ax[n_plots-1, 0].set_xlabel('time, t')\n",
    "ax[n_plots-1, 1].set_xlabel('time, t')\n",
    "fig.suptitle(fname)\n",
    "ax[n_plots-1, 0].set_ylabel('x(t)')\n",
    "ax[0, 0].set_title('class '+str(int(train_0.iloc[0]['class'])))\n",
    "ax[0, 1].set_title('class '+str(int(train_1.iloc[0]['class'])))\n"
   ]
  },
  {
   "cell_type": "code",
   "execution_count": null,
   "metadata": {},
   "outputs": [],
   "source": []
  },
  {
   "cell_type": "code",
   "execution_count": null,
   "metadata": {},
   "outputs": [],
   "source": []
  }
 ],
 "metadata": {
  "kernelspec": {
   "display_name": "Python 3",
   "language": "python",
   "name": "python3"
  },
  "language_info": {
   "codemirror_mode": {
    "name": "ipython",
    "version": 3
   },
   "file_extension": ".py",
   "mimetype": "text/x-python",
   "name": "python",
   "nbconvert_exporter": "python",
   "pygments_lexer": "ipython3",
   "version": "3.5.2"
  }
 },
 "nbformat": 4,
 "nbformat_minor": 2
}
