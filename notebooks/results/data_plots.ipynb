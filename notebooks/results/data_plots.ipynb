{
 "cells": [
  {
   "cell_type": "markdown",
   "metadata": {},
   "source": [
    "# Visualise the data"
   ]
  },
  {
   "cell_type": "code",
   "execution_count": null,
   "metadata": {},
   "outputs": [],
   "source": [
    "import os\n",
    "import pathlib\n",
    "import time\n",
    "import itertools\n",
    "from datetime import datetime\n",
    "\n",
    "import numpy as np\n",
    "import pandas as pd\n",
    "import matplotlib.pyplot as plt\n",
    "import seaborn as sns\n"
   ]
  },
  {
   "cell_type": "code",
   "execution_count": null,
   "metadata": {},
   "outputs": [],
   "source": [
    "flist = ['private_dog2_correct']  # List dataset directory names. WormsTwoClass Lightning2 Earthquakes GunPoint \n",
    "# Input directory\n",
    "if 'private' in flist[0]:\n",
    "    fdir = '../../data/private_data/private_events_dev2' \n",
    "else:\n",
    "    fdir = '../../data' \n",
    "sns.set(style=\"whitegrid\")"
   ]
  },
  {
   "cell_type": "code",
   "execution_count": null,
   "metadata": {},
   "outputs": [],
   "source": [
    "def readucr(filename):\n",
    "    data = np.loadtxt(filename)\n",
    "    Y = data[:,0]\n",
    "    X = data[:,1:]\n",
    "    return X, Y\n",
    "\n",
    "def read_data(filename):\n",
    "    data = np.loadtxt(filename)\n",
    "    return data"
   ]
  },
  {
   "cell_type": "markdown",
   "metadata": {},
   "source": [
    "## Dataset size"
   ]
  },
  {
   "cell_type": "code",
   "execution_count": null,
   "metadata": {},
   "outputs": [],
   "source": [
    "fname = flist[0]\n",
    "train = pd.DataFrame(read_data(fdir+'/'+fname+'/'+fname+'_TRAIN.txt'))\n",
    "test = pd.DataFrame(read_data(fdir+'/'+fname+'/'+fname+'_TEST.txt'))\n",
    "train = train.rename(index=str, columns={0:'class'})\n",
    "test = test.rename(index=str, columns={0:'class'})\n",
    "classes = train['class'].unique()\n",
    "classes = np.sort(classes)\n",
    "print('Class labels are', classes)\n",
    "n0_train = train[train['class'] == classes[0]]['class'].count()\n",
    "n1_train = train[train['class'] == classes[1]]['class'].count()\n",
    "n0_test = test[test['class'] == classes[0]]['class'].count()\n",
    "n1_test = test[test['class'] == classes[1]]['class'].count()\n",
    "print('Number of samples in each class:')\n",
    "print('Train:', n0_train, ',', n1_train)\n",
    "print('Test:', n0_test, ',', n1_test)"
   ]
  },
  {
   "cell_type": "markdown",
   "metadata": {},
   "source": [
    "## Create data subsets on class 0 and 1"
   ]
  },
  {
   "cell_type": "code",
   "execution_count": null,
   "metadata": {},
   "outputs": [],
   "source": [
    "train_0 = train[(train['class'] == classes[0])]\n",
    "train_1 = train[(train['class'] == classes[1])]\n",
    "test_0 = test[(test['class'] == classes[0])]\n",
    "test_1 = test[(test['class'] == classes[1])]\n",
    "fig = plt.figure()\n",
    "ax = fig.add_subplot(111)\n",
    "rand = int(np.random.rand()*min(n0_train, n1_train))\n",
    "n = x_train.shape[1]\n",
    "plt.plot(train_0.iloc[rand][1:], label='class '+str(int((train_0.iloc[rand]['class']))))\n",
    "plt.plot(train_1.iloc[rand][1:], label='class '+str(int(train_1.iloc[rand]['class'])))\n",
    "plt.legend(loc='upper right', frameon=False)\n",
    "plt.suptitle(fname)\n",
    "ax.set_xlabel('time, t')\n",
    "ax.set_ylabel('x(t)')"
   ]
  },
  {
   "cell_type": "markdown",
   "metadata": {},
   "source": [
    "## Compare classes"
   ]
  },
  {
   "cell_type": "code",
   "execution_count": null,
   "metadata": {},
   "outputs": [],
   "source": [
    "def plot_class_data(data, fname, n_plots=20):\n",
    "    fig, ax = plt.subplots(n_plots, 2, sharex='col', sharey='row', figsize=(10, 10))\n",
    "    rows = [0, 0]\n",
    "    colors = [None, 'darkorange']\n",
    "    for i in range(data.shape[0]):\n",
    "        col = 0\n",
    "        if data.iloc[i]['class']==1:\n",
    "            col = 1\n",
    "        row = rows[col]\n",
    "        rows[col] = rows[col] + 1\n",
    "        if row < n_plots:\n",
    "            ax[row, col].plot(data.iloc[i][1:], color=colors[col])\n",
    "            ax[0, col].set_title('Class '+str(int(data.iloc[i]['class'])))\n",
    "            ax[row, col].set_ylim(bottom=0, top=2.2)\n",
    "    ax[n_plots-1, 0].set_ylabel('x(t)')\n",
    "    ax[n_plots-1, 0].set_xlabel('time, t')\n",
    "    ax[n_plots-1, 1].set_xlabel('time, t')\n",
    "    fig.suptitle(fname)"
   ]
  },
  {
   "cell_type": "code",
   "execution_count": null,
   "metadata": {},
   "outputs": [],
   "source": [
    "plot_class_data(train, fname, 20)"
   ]
  },
  {
   "cell_type": "code",
   "execution_count": null,
   "metadata": {},
   "outputs": [],
   "source": [
    "plot_class_data(test, fname, 20)"
   ]
  },
  {
   "cell_type": "code",
   "execution_count": null,
   "metadata": {},
   "outputs": [],
   "source": []
  }
 ],
 "metadata": {
  "kernelspec": {
   "display_name": "Python 3",
   "language": "python",
   "name": "python3"
  },
  "language_info": {
   "codemirror_mode": {
    "name": "ipython",
    "version": 3
   },
   "file_extension": ".py",
   "mimetype": "text/x-python",
   "name": "python",
   "nbconvert_exporter": "python",
   "pygments_lexer": "ipython3",
   "version": "3.5.2"
  }
 },
 "nbformat": 4,
 "nbformat_minor": 2
}
