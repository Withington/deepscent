{
 "cells": [
  {
   "cell_type": "markdown",
   "metadata": {},
   "source": [
    "# Deepscent\n",
    "Load the pre-trained Deepscent model and a set of data samples (dummy samples are provided). Use the model to predict their class."
   ]
  },
  {
   "cell_type": "code",
   "execution_count": null,
   "metadata": {},
   "outputs": [],
   "source": [
    "from pathlib import Path\n",
    "import itertools\n",
    "import requests\n",
    "import json\n",
    "\n",
    "import numpy as np\n",
    "import pandas as pd\n",
    "import tensorflow as tf\n",
    "import tensorflow.keras as keras\n",
    "\n",
    "from tensorflow.keras.models import Model, Sequential\n",
    "from tensorflow.keras.models import model_from_json\n",
    "\n",
    "from sklearn.metrics import confusion_matrix\n",
    "\n",
    "import matplotlib.pyplot as plt\n",
    "from matplotlib.ticker import FuncFormatter\n",
    "import matplotlib.colors\n",
    "import seaborn as sns\n",
    "\n",
    "np.random.seed(851)\n",
    "sns.set(style=\"whitegrid\")"
   ]
  },
  {
   "cell_type": "code",
   "execution_count": null,
   "metadata": {},
   "outputs": [],
   "source": [
    "url_root = 'https://raw.githubusercontent.com/Withington/deepscent/master/data'\n",
    "url_model_dir = url_root+'/model'\n",
    "url_data_dir = url_root+'/test_data/thirty/events'"
   ]
  },
  {
   "cell_type": "code",
   "execution_count": null,
   "metadata": {},
   "outputs": [],
   "source": [
    "def load_data_from_web(url):\n",
    "    ''' Load the data from a file in the deepscent GitHub repo.\n",
    "    File format - UCR TSC Archive\n",
    "    i.e. space delimited, class labels in the first column.\n",
    "    Returns\n",
    "    X : input data, one sample per row\n",
    "    Y : class labels corresponding to each row of X\n",
    "    '''\n",
    "    df = pd.read_csv(url, sep=' ', header=None)\n",
    "    print('Loaded data from', url)\n",
    "    Y = df.values[:,0].astype(int)\n",
    "    X = df.values[:,1:]\n",
    "    return X, Y\n",
    "\n",
    "\n",
    "def plot_confusion_matrix(cm):\n",
    "    ''' Plot the normalised confusion matrix\n",
    "    Parameters\n",
    "    cm : array - normalised confusion matrix\n",
    "    Scikit-learn: Machine Learning in Python, Pedregosa et al., JMLR 12, pp. 2825-2830, 2011.\n",
    "    'Confusion Matrix' https://scikit-learn.org/stable/auto_examples/model_selection/plot_confusion_matrix.html#sphx-glr-auto-examples-model-selection-plot-confusion-matrix-py\n",
    "    '''\n",
    "    classes = ['Positive', 'Negative']\n",
    "    cmap=plt.cm.Blues\n",
    "    sns.set_style('dark')\n",
    "    plt.figure()\n",
    "    plt.imshow(cm, interpolation='nearest', cmap=cmap)\n",
    "    plt.title('Normalised confusion matrix')\n",
    "    plt.colorbar(format=FuncFormatter('{0:.0%}'.format))\n",
    "    tick_marks = np.arange(len(classes))\n",
    "    plt.xticks(tick_marks, classes, rotation=45)\n",
    "    plt.yticks(tick_marks, classes)\n",
    "    plt.clim(0, 1)\n",
    "    fmt = '.0%'\n",
    "    thresh = cm.max() / 2.\n",
    "    for i, j in itertools.product(range(cm.shape[0]), range(cm.shape[1])):\n",
    "        plt.text(j, i, format(cm[i, j], fmt),\n",
    "                 horizontalalignment=\"center\",\n",
    "                 color=\"white\" if cm[i, j] > thresh else \"black\")\n",
    "    plt.ylabel('True class')\n",
    "    plt.xlabel('Predicted class')\n",
    "    sns.set(style = 'whitegrid')"
   ]
  },
  {
   "cell_type": "code",
   "execution_count": null,
   "metadata": {},
   "outputs": [],
   "source": [
    "# Load the model structure\n",
    "response = requests.get(url_model_dir+'/model.json')\n",
    "model = model_from_json(json.dumps(response.json()))\n",
    "\n",
    "# Load weights into new model\n",
    "response = requests.get(url_model_dir+'/model.h5')\n",
    "open('temp.h5', 'wb').write(response.content)\n",
    "model.load_weights('temp.h5')\n",
    "print('Model loaded from', url_model_dir)\n",
    "\n",
    "# Load additional model parameters - used to normalise the input data and to set the classification threshold\n",
    "model_params = pd.read_csv(url_model_dir+'/model_params.csv', header=None, index_col=0, squeeze=True).to_dict()\n",
    "\n",
    "# Compile the model\n",
    "optimizer = keras.optimizers.Adam()\n",
    "model.compile(loss='binary_crossentropy', optimizer=optimizer, metrics=['accuracy'])"
   ]
  },
  {
   "cell_type": "code",
   "execution_count": null,
   "metadata": {},
   "outputs": [],
   "source": [
    "# Load data samples and normalise them\n",
    "x_input, y_input = load_data_from_web(url_data_dir+'/events.txt') \n",
    "x_input_norm = (x_input - model_params['x_train_mean'])/(model_params['x_train_std'])"
   ]
  },
  {
   "cell_type": "code",
   "execution_count": null,
   "metadata": {},
   "outputs": [],
   "source": [
    "# Use the model to make predictions\n",
    "y_probs = model.predict_on_batch(x_input_norm)\n",
    "y_pred = y_probs.flatten()\n",
    "y_pred[y_pred > model_params['threshold']] = 1\n",
    "y_pred[y_pred <= model_params['threshold']] = 0\n",
    "\n",
    "cm = confusion_matrix(y_input, y_pred, labels=[1,0])\n",
    "acc_calc = (cm[0][0]+cm[1][1])/(cm.sum())\n",
    "cm_norm = cm.astype('float') / cm.sum(axis=1)[:, np.newaxis]\n",
    "n0 = (y_input == 0).sum()\n",
    "n1 = (y_input == 1).sum()\n",
    "\n",
    "print('Class balance:\\t', n0/(n0+n1), '(class 0:',n0, 'and class 1:', n1, ')')\n",
    "print('Accuracy:\\t',acc_calc, '\\n')\n",
    "plot_confusion_matrix(cm_norm)"
   ]
  },
  {
   "cell_type": "code",
   "execution_count": null,
   "metadata": {
    "scrolled": true
   },
   "outputs": [],
   "source": [
    "# Plot a data sample\n",
    "fig, ax = plt.subplots(1, 1)\n",
    "i = 0\n",
    "ax.plot(x_input[i])\n",
    "ax.set_title('Data sample '+str(i)+'\\nTrue class '+str(int(y_input[i]))+': Model prediction '+str(int(y_pred[i])))"
   ]
  },
  {
   "cell_type": "code",
   "execution_count": null,
   "metadata": {},
   "outputs": [],
   "source": [
    "# Plot classification probabilities\n",
    "class_colors = ['darkorange', 'steelblue']\n",
    "x = np.arange(y_probs.shape[0])\n",
    "class_cmap = matplotlib.colors.ListedColormap(class_colors)\n",
    "fig, ax = plt.subplots()\n",
    "plt.scatter(np.arange(y_probs.shape[0]), y_probs, linestyle='None', marker='x', \n",
    "            c=y_input, cmap=class_cmap)\n",
    "plt.title('Orange: true class 0\\nBlue: true class 1')\n",
    "ax.set_xlabel('Test sample number')\n",
    "ax.set_ylabel('Model: probability of belonging to class 1');"
   ]
  }
 ],
 "metadata": {
  "kernelspec": {
   "display_name": "Python 3",
   "language": "python",
   "name": "python3"
  },
  "language_info": {
   "codemirror_mode": {
    "name": "ipython",
    "version": 3
   },
   "file_extension": ".py",
   "mimetype": "text/x-python",
   "name": "python",
   "nbconvert_exporter": "python",
   "pygments_lexer": "ipython3",
   "version": "3.5.2"
  }
 },
 "nbformat": 4,
 "nbformat_minor": 2
}
