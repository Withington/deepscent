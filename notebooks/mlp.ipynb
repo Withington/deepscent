{
 "cells": [
  {
   "cell_type": "markdown",
   "metadata": {},
   "source": [
    "# Multilayer perceptron"
   ]
  },
  {
   "cell_type": "markdown",
   "metadata": {},
   "source": [
    "This software uses cauchyturing/UCR_Time_Series_Classification_Deep_Learning_Baseline \n",
    "\n",
    "See MIT License in \n",
    "https://github.com/cauchyturing/UCR_Time_Series_Classification_Deep_Learning_Baseline/README.md\n",
    "\n",
    "Wang, Z., Yan, W. and Oates, T. (2017) ‘Time series classification from scratch with deep neural networks: A strong baseline’, 2017 International Joint Conference on Neural Networks (IJCNN), pp. 1578–1585 [Online.](https://arxiv.org/abs/1611.06455 \"Wang et al. (2017)\")"
   ]
  },
  {
   "cell_type": "markdown",
   "metadata": {},
   "source": [
    "## Formatting\n",
    "\n",
    "Left align the tables in this Notebook.\n"
   ]
  },
  {
   "cell_type": "code",
   "execution_count": 98,
   "metadata": {},
   "outputs": [
    {
     "data": {
      "text/html": [
       "<style>\n",
       "  table {margin-left: 0 !important;}\n",
       "</style>"
      ],
      "text/plain": [
       "<IPython.core.display.HTML object>"
      ]
     },
     "metadata": {},
     "output_type": "display_data"
    }
   ],
   "source": [
    "%%html\n",
    "<style>\n",
    "  table {margin-left: 0 !important;}\n",
    "</style>"
   ]
  },
  {
   "cell_type": "markdown",
   "metadata": {},
   "source": [
    "## Data\n",
    "Additional datasets are available in the UEA & UCT Time Series Classification Repository at http://www.timeseriesclassification.com/. \n",
    "\n",
    "Save additional datasets in deepscent/data. E.g. deepscent/data/Adiac/Adiac_TRAIN.txt\n",
    "\n",
    "### GunPoint dataset\n",
    "The GunPoint dataset is from the [UEA & UCR Time Series \n",
    "Classification Repository](http://www.timeseriesclassification.com/description.php?Dataset=GunPoint \n",
    "\"GunPoint description\"). The data is from one female and one male either drawing and pointing a gun at a target or pointing their finger at a target. The location of their hand was tracked. This data is the time series of the x-axis location.\n",
    "\n",
    "|Training set size |Test set size |Number of classes \n",
    "|:-----------      |:--------     |:----------     \n",
    "|50 |150  |2 \n"
   ]
  },
  {
   "cell_type": "markdown",
   "metadata": {},
   "source": [
    "## Train MLP\n",
    "Expected running time for various datasets when using the original training/test split. Running on a single NVIDIA GeForce GTX 1080 Ti Graphics Card -\n",
    "\n",
    "Dataset   | Training time\n",
    ":-------  | :--------\n",
    "Adiac     | 18 minutes\n",
    "GunPoint  | 11 minutes\n"
   ]
  },
  {
   "cell_type": "markdown",
   "metadata": {},
   "source": [
    "### User inputs"
   ]
  },
  {
   "cell_type": "code",
   "execution_count": 99,
   "metadata": {},
   "outputs": [],
   "source": [
    "flist = ['GunPoint'] # List dataset directory names.\n",
    "k = 4 # For k-fold cross validation. If k=1, the original test-train split is used.\n",
    "seed = 35 # seed for initialising random weights in the NN.\n",
    "k_fold_seed = 87\n",
    "# Directories\n",
    "fdir = '../data'  \n",
    "logs_dir = '../logs'\n",
    "timestamp = '{:%Y-%m-%dT%H:%M}'.format(datetime.now())\n",
    "logs_dir = logs_dir +'/' + timestamp"
   ]
  },
  {
   "cell_type": "markdown",
   "metadata": {},
   "source": [
    "### Set up"
   ]
  },
  {
   "cell_type": "code",
   "execution_count": 100,
   "metadata": {},
   "outputs": [],
   "source": [
    "import tensorflow as tf\n",
    "import tensorflow.keras as keras\n",
    "\n",
    "from tensorflow.keras.models import Model\n",
    "from tensorflow.keras.layers import Input, Dense, Dropout\n",
    "from tensorflow.keras.initializers import RandomUniform\n",
    "from tensorflow.keras import utils\n",
    "import numpy as np\n",
    "from tensorflow.keras.callbacks import ReduceLROnPlateau\n",
    "\n",
    "import pandas as pd\n",
    "import matplotlib.pyplot as plt\n",
    "from sklearn.model_selection import KFold\n",
    "\n",
    "import os\n",
    "import time\n",
    "from datetime import datetime\n",
    "import pathlib\n",
    "\n",
    "np.random.seed(22)#813306)\n",
    "\n",
    "      \n",
    "def readucr(filename):\n",
    "    data = np.loadtxt(filename)\n",
    "    Y = data[:,0]\n",
    "    X = data[:,1:]\n",
    "    return X, Y\n",
    "  \n",
    "nb_epochs = 5000"
   ]
  },
  {
   "cell_type": "markdown",
   "metadata": {},
   "source": [
    "### Visualise the data"
   ]
  },
  {
   "cell_type": "code",
   "execution_count": 101,
   "metadata": {},
   "outputs": [
    {
     "data": {
      "text/plain": [
       "<matplotlib.legend.Legend at 0x7f63a7f45ac8>"
      ]
     },
     "execution_count": 101,
     "metadata": {},
     "output_type": "execute_result"
    },
    {
     "data": {
      "image/png": "[encoded data removed]",
      "text/plain": [
       "<Figure size 432x288 with 1 Axes>"
      ]
     },
     "metadata": {
      "needs_background": "light"
     },
     "output_type": "display_data"
    }
   ],
   "source": [
    "fname = flist[0]\n",
    "data_a = 0\n",
    "data_b = 2\n",
    "x_train, y_train = readucr(fdir+'/'+fname+'/'+fname+'_TRAIN.txt')\n",
    "plt.plot(x_train[data_a], label='category'+str(y_train[data_a]))\n",
    "plt.plot(x_train[data_b], label='category'+str(y_train[data_b]))\n",
    "plt.legend(loc='upper left', frameon=False)"
   ]
  },
  {
   "cell_type": "markdown",
   "metadata": {},
   "source": [
    "### Function to train the MLP"
   ]
  },
  {
   "cell_type": "code",
   "execution_count": 102,
   "metadata": {},
   "outputs": [],
   "source": [
    "def train_model(fname, x_train, y_train, x_test, y_test, label=\"0\"):\n",
    "    print('Running dataset', fname)\n",
    "    nb_classes =len(np.unique(y_test))\n",
    "    y_train = (y_train - y_train.min())/(y_train.max()-y_train.min())*(nb_classes-1)\n",
    "    y_test = (y_test - y_test.min())/(y_test.max()-y_test.min())*(nb_classes-1)\n",
    "    batch_size = int(min(x_train.shape[0]/10, 16))\n",
    "    \n",
    "    Y_train = utils.to_categorical(y_train, nb_classes)\n",
    "    Y_test = utils.to_categorical(y_test, nb_classes)\n",
    "     \n",
    "    x_train_mean = x_train.mean()\n",
    "    x_train_std = x_train.std()\n",
    "    x_train = (x_train - x_train_mean)/(x_train_std)\n",
    "     \n",
    "   # x_test_min = np.min(x_test, axis = 1, keepdims=1)\n",
    "   # x_test_max = np.max(x_test, axis = 1, keepdims=1)\n",
    "    x_test = (x_test - x_train_mean)/(x_train_std)\n",
    "     \n",
    "    #x_train = x_train.reshape(x_train.shape + (1,))\n",
    "    #x_test = x_test.reshape(x_test.shape + (1,))\n",
    "    \n",
    "    x = Input(x_train.shape[1:])\n",
    "    y= Dropout(0.1)(x)\n",
    "    y = Dense(500, activation='relu', kernel_initializer=RandomUniform(seed=seed))(x)\n",
    "    y = Dropout(0.2)(y)\n",
    "    y = Dense(500, activation='relu', kernel_initializer=RandomUniform(seed=seed))(y)\n",
    "    y = Dropout(0.2)(y)\n",
    "    y = Dense(500, activation = 'relu', kernel_initializer=RandomUniform(seed=seed))(y)\n",
    "    y = Dropout(0.3)(y)\n",
    "    out = Dense(nb_classes, activation='softmax', kernel_initializer=RandomUniform(seed=seed))(y)\n",
    "     \n",
    "    model = Model(x, out)\n",
    "     \n",
    "    optimizer = keras.optimizers.Adadelta(rho=0.95, epsilon=1e-8)  \n",
    "    model.compile(loss='categorical_crossentropy',\n",
    "                  optimizer=optimizer,\n",
    "                  metrics=['accuracy'])\n",
    "     \n",
    "    reduce_lr = ReduceLROnPlateau(monitor = 'loss', factor=0.5,\n",
    "                      patience=200, min_lr=0.1)\n",
    "    \n",
    "\n",
    "    start = time.time()\n",
    "    hist = model.fit(x_train, Y_train, batch_size=batch_size, epochs=nb_epochs,\n",
    "              verbose=2, validation_data=(x_test, Y_test), \n",
    "                #callbacks = [TestCallback((x_train, Y_train)), reduce_lr, keras.callbacks.TensorBoard(log_dir='./log'+fname, histogram_freq=1)])\n",
    "                 callbacks=[reduce_lr])\n",
    "    end = time.time()\n",
    "    \n",
    "    log = pd.DataFrame(hist.history)\n",
    "    # Print results. Print the testing results which has the lowest training loss.\n",
    "    print('Training complete on', fname)\n",
    "    duration_minutes = str(round((end-start)/60))\n",
    "    print('Training time ', end-start, 'seconds, which is about', duration_minutes, 'minutes.')\n",
    "    print('Selected the test result with the lowest training loss. Loss and accuracy are -')\n",
    "    loss = log.loc[log['loss'].idxmin]['loss']\n",
    "    val_acc = log.loc[log['loss'].idxmin]['val_acc']\n",
    "    print(loss, val_acc)\n",
    "    summary = '|' + label + '  |'+str(loss)+'  |'+str(val_acc)+' |'+  fname +'  |'+ timestamp + '  |' + duration_minutes + 'mins  |'\n",
    "    # Save log file.\n",
    "    pathlib.Path(logs_dir+'/'+fname).mkdir(parents=True, exist_ok=True) \n",
    "    print('Saving logs to',logs_dir+'/'+fname+'/history_'+label+'.csv')\n",
    "    log.to_csv(logs_dir+'/'+fname+'/history_'+label+'.csv')\n",
    "    return summary\n",
    " \n",
    "\n"
   ]
  },
  {
   "cell_type": "markdown",
   "metadata": {},
   "source": [
    "# Train"
   ]
  },
  {
   "cell_type": "code",
   "execution_count": 103,
   "metadata": {},
   "outputs": [
    {
     "name": "stdout",
     "output_type": "stream",
     "text": [
      "Running dataset GunPoint\n",
      "Train on 150 samples, validate on 50 samples\n",
      "Epoch 1/1\n",
      " - 1s - loss: 0.6838 - acc: 0.5467 - val_loss: 0.6457 - val_acc: 0.6200\n",
      "Training complete on GunPoint\n",
      "Training time  1.768704891204834 seconds, which is about 0 minutes.\n",
      "Selected the test result with the lowest training loss. Loss and accuracy are -\n",
      "0.6838244557380676 0.6200000196695328\n",
      "For the results table -\n",
      "|0  |0.6838244557380676  |0.6200000196695328 |GunPoint  |2018-11-23T13:43  |0mins  |\n",
      "Saving logs to ../logs/2018-11-23T13:43/GunPoint/history_0.csv\n",
      "Running dataset GunPoint\n",
      "Train on 150 samples, validate on 50 samples\n",
      "Epoch 1/1\n",
      " - 2s - loss: 0.6729 - acc: 0.6400 - val_loss: 0.6685 - val_acc: 0.6000\n",
      "Training complete on GunPoint\n",
      "Training time  1.8946590423583984 seconds, which is about 0 minutes.\n",
      "Selected the test result with the lowest training loss. Loss and accuracy are -\n",
      "0.6728577733039856 0.6000000149011612\n",
      "For the results table -\n",
      "|1  |0.6728577733039856  |0.6000000149011612 |GunPoint  |2018-11-23T13:43  |0mins  |\n",
      "Saving logs to ../logs/2018-11-23T13:43/GunPoint/history_1.csv\n",
      "Running dataset GunPoint\n",
      "Train on 150 samples, validate on 50 samples\n",
      "Epoch 1/1\n",
      " - 2s - loss: 0.6843 - acc: 0.5333 - val_loss: 0.6543 - val_acc: 0.6200\n",
      "Training complete on GunPoint\n",
      "Training time  1.90018630027771 seconds, which is about 0 minutes.\n",
      "Selected the test result with the lowest training loss. Loss and accuracy are -\n",
      "0.684343022108078 0.6200000226497651\n",
      "For the results table -\n",
      "|2  |0.684343022108078  |0.6200000226497651 |GunPoint  |2018-11-23T13:43  |0mins  |\n",
      "Saving logs to ../logs/2018-11-23T13:43/GunPoint/history_2.csv\n",
      "Running dataset GunPoint\n",
      "Train on 150 samples, validate on 50 samples\n",
      "Epoch 1/1\n",
      " - 2s - loss: 0.6775 - acc: 0.5600 - val_loss: 0.6524 - val_acc: 0.5600\n",
      "Training complete on GunPoint\n",
      "Training time  1.944110631942749 seconds, which is about 0 minutes.\n",
      "Selected the test result with the lowest training loss. Loss and accuracy are -\n",
      "0.6775021970272064 0.5600000128149987\n",
      "For the results table -\n",
      "|3  |0.6775021970272064  |0.5600000128149987 |GunPoint  |2018-11-23T13:43  |0mins  |\n",
      "Saving logs to ../logs/2018-11-23T13:43/GunPoint/history_3.csv\n",
      "DONE\n",
      "|0  |0.6838244557380676  |0.6200000196695328 |GunPoint  |2018-11-23T13:43  |0mins  |\n",
      "|1  |0.6728577733039856  |0.6000000149011612 |GunPoint  |2018-11-23T13:43  |0mins  |\n",
      "|2  |0.684343022108078  |0.6200000226497651 |GunPoint  |2018-11-23T13:43  |0mins  |\n",
      "|3  |0.6775021970272064  |0.5600000128149987 |GunPoint  |2018-11-23T13:43  |0mins  |\n"
     ]
    }
   ],
   "source": [
    "results = []\n",
    "for each in flist:\n",
    "    fname = each\n",
    "    x_train, y_train = readucr(fdir+'/'+fname+'/'+fname+'_TRAIN.txt')\n",
    "    x_test, y_test = readucr(fdir+'/'+fname+'/'+fname+'_TEST.txt')\n",
    "    # k-fold cross validation setup\n",
    "    if k > 1:\n",
    "        x_all = np.concatenate((x_train, x_test), axis=0)\n",
    "        y_all = np.concatenate((y_train, y_test), axis=0)\n",
    "        kfold = KFold(k, True, k_fold_seed)\n",
    "        count = 0\n",
    "        for train, test in kfold.split(x_all):\n",
    "            x_train, y_train, x_test, y_test = x_all[train], y_all[train], x_all[test], y_all[test]\n",
    "            summary = train_model(fname, x_train, y_train, x_test, y_test, str(count))\n",
    "            results.append(summary)\n",
    "            count = count + 1\n",
    "    else:\n",
    "        summary = train_model(fname, x_train, y_train, x_test, y_test)\n",
    "        results.append(summary)\n",
    "        \n",
    "print('DONE')\n",
    "for each in results:\n",
    "    print(each)\n",
    "\t"
   ]
  },
  {
   "cell_type": "markdown",
   "metadata": {},
   "source": [
    "# Recorded results\n",
    "## Adiac\n",
    "\n",
    "|Run |Loss |Accuracy | Comment\n",
    "|:---|:--- |:---     |:----------\n",
    "|1   | 0.005222544357037315  | 0.6930946294608933 |Adadelta - default values\n",
    "|2   | 0.0018498263113997382 | 0.7109974427601261 |\n",
    "|3   | 0.001620212956988372  | 0.7212276216358176 |Adadelta parameters match Wang (2017)\n",
    "|4   | 0.0023210097823697976 | 0.7289002559069172  |\n",
    "|5   | 0.001681140968559283   | 0.7212276216358176  |\n",
    "\n",
    "## GunPoint\n",
    "\n",
    "|Run |Loss |Accuracy | Comment     | Timestamp\n",
    "|:---|:--- |:---     |:----------  |:--------\n",
    "|1   | 1.466274483163943e-07  | 0.9400000035762787 |Adadelta parameters match Wang (2017)\n",
    "|2   | 1.370907000364241e-07  | 0.9333333363135655  |\n",
    "|3   | 1.3589860969887013e-07 | 0.9333333373069763  |\n",
    "|4   | 1.3351442333942033e-07   | 0.9333333363135655  |\n",
    "|5   | 1.4781954007503373e-07   | 0.9333333363135655  |\n",
    "|6   | 1.4781953865394827e-07   | 0.940000002582868  |\n",
    "|7   | 1.4305116877721957e-07   | 0.940000002582868  |\n",
    "|8   | 1.239776764805356e-07   | 0.946666669845581  |\n",
    "|9   | 1.311302369799705e-07   | 0.9333333363135655  | Changed random seed from 813306 to 22\n",
    "|10  | 1.466274483163943e-07   | 0.9333333363135655  | Added kernel_initializer=RandomUniform(seed=seed) with seed=35\n",
    "|11   | 7.161587154865266   | 0.49333334614833196  | Changed from Adadelta optimiser to Adam(lr=0.1, epsilon=1e-8)\n",
    "|12   | 1.2874604919943523e-07   | 0.9266666700442632  |Adam(default params)| 2018-11-18T12:41   \n",
    "|13   | 1.5139580966661015e-07   | 0.9333333363135655  | . | 2018-11-18T15:28  \n",
    "|14   | 1.3470651367697427e-07   | 0.9333333363135655  |  .| 2018-11-23T12:37   |\n",
    "\n",
    "### K-fold cross validation\n",
    "|Run |Loss |Accuracy | Comment     | Timestamp\n",
    "|:---|:--- |:---     |:----------  |:--------\n",
    "|1.0  | 2.058348101741103e-07   | 1.0  |  .| 2018-11-23T12:51   |\n",
    "|1.1   | 2.7934738824342274e-07   | 0.9400000035762787  |  .| 2018-11-23T12:51   |\n",
    "|1.2   | 2.1417950222257786e-07   | 0.9200000047683716  |  .| 2018-11-23T12:51   |\n",
    "|1.3   | 1.9788750762472774e-07   | 0.9800000011920929  |  .| 2018-11-23T12:51   |\n"
   ]
  },
  {
   "cell_type": "markdown",
   "metadata": {},
   "source": [
    "# Read results from file"
   ]
  },
  {
   "cell_type": "code",
   "execution_count": 104,
   "metadata": {},
   "outputs": [
    {
     "name": "stdout",
     "output_type": "stream",
     "text": [
      "Read from file ../logs/2018-11-23T13:43/GunPoint/history_0.csv - loss and val_acc are\n",
      "0.6838244557380676 0.6200000196695328\n"
     ]
    }
   ],
   "source": [
    "read_log = pd.read_csv(logs_dir+'/'+fname+'/history_0.csv')\n",
    "read_loss = read_log.loc[read_log['loss'].idxmin]['loss']\n",
    "read_val_acc = read_log.loc[read_log['loss'].idxmin]['val_acc']\n",
    "print('Read from file', logs_dir+'/'+fname+'/history_0.csv', '- loss and val_acc are')\n",
    "print(read_loss, read_val_acc)"
   ]
  },
  {
   "cell_type": "code",
   "execution_count": null,
   "metadata": {},
   "outputs": [],
   "source": []
  }
 ],
 "metadata": {
  "kernelspec": {
   "display_name": "Python 3",
   "language": "python",
   "name": "python3"
  },
  "language_info": {
   "codemirror_mode": {
    "name": "ipython",
    "version": 3
   },
   "file_extension": ".py",
   "mimetype": "text/x-python",
   "name": "python",
   "nbconvert_exporter": "python",
   "pygments_lexer": "ipython3",
   "version": "3.5.2"
  }
 },
 "nbformat": 4,
 "nbformat_minor": 2
}
