{
 "cells": [
  {
   "cell_type": "markdown",
   "metadata": {},
   "source": [
    "# Train a model and test it on the final test dataset"
   ]
  },
  {
   "cell_type": "code",
   "execution_count": null,
   "metadata": {},
   "outputs": [],
   "source": [
    "from pathlib import Path\n",
    "import time\n",
    "\n",
    "import numpy as np\n",
    "import pandas as pd\n",
    "import sklearn\n",
    "from sklearn.model_selection import train_test_split, RepeatedStratifiedKFold\n",
    "import tensorflow as tf\n",
    "import tensorflow.keras as keras\n",
    "import matplotlib.pyplot as plt\n",
    "import seaborn as sns\n",
    "\n",
    "from tensorflow.keras.layers import Input, Dense, Activation, Dropout\n",
    "from tensorflow.keras.models import Model\n",
    "from tensorflow.keras.models import model_from_json\n",
    "\n",
    "# General settings\n",
    "sns.set_style('whitegrid')"
   ]
  },
  {
   "cell_type": "code",
   "execution_count": null,
   "metadata": {},
   "outputs": [],
   "source": [
    "load_from_web = True"
   ]
  },
  {
   "cell_type": "code",
   "execution_count": null,
   "metadata": {},
   "outputs": [],
   "source": [
    "def load_data(filename):\n",
    "    if load_from_web:\n",
    "        url = 'https://raw.githubusercontent.com/Withington/deepscent/master/data/SonyAIBORobotSurface1_IoC/'+filename\n",
    "        robot_df = pd.read_csv(url, sep='\\t', header=None)\n",
    "        print('Loaded from', url)\n",
    "        robot_data = robot_df.values\n",
    "    else:\n",
    "        data_dir = '../../data'\n",
    "        data_name = 'SonyAIBORobotSurface1_IoC'\n",
    "        data_filename = data_dir+'/'+data_name+'/'+filename\n",
    "        robot_data = np.loadtxt(Path(data_filename))\n",
    "        print('Loaded from', data_filename)\n",
    "\n",
    "    y = robot_data[:,0]\n",
    "    x = robot_data[:,1:]\n",
    "    print('The shape of x is', x.shape)\n",
    "    print('The shape of y is', y.shape)\n",
    "\n",
    "    # Change from classes 1 and 2 to classes 0 and 1\n",
    "    y = (y - y.min())/(y.max()-y.min())\n",
    "    return x, y"
   ]
  },
  {
   "cell_type": "code",
   "execution_count": null,
   "metadata": {},
   "outputs": [],
   "source": [
    "x_train, y_train = load_data('SonyAIBORobotSurface1_IoC_DEV.txt')\n",
    "x_test, y_test = load_data('SonyAIBORobotSurface1_IoC_FINAL_TEST.txt')"
   ]
  },
  {
   "cell_type": "markdown",
   "metadata": {},
   "source": [
    "# MLP final"
   ]
  },
  {
   "cell_type": "code",
   "execution_count": null,
   "metadata": {},
   "outputs": [],
   "source": [
    "def build_model():\n",
    "    x = Input(shape=(x_train.shape[1:]), name='InputLayer')\n",
    "    ### CHANGE PARAMETERS HERE ###\n",
    "    y = Dropout(0.1,name='InputLayerDropout')(x)\n",
    "    y = Dense(16, activation='relu', name='Layer010Dense')(y) \n",
    "    y = Dropout(0.2,name='Layer010Dropout')(y)\n",
    "    y = Dense(16, activation='relu', name='Layer020Dense')(y)\n",
    "    y = Dropout(0.2,name='Layer020Dropout')(y)\n",
    "    y = Dense(16, activation='relu', name='Layer030Dense')(y)\n",
    "    y = Dropout(0.3,name='Layer030Dropout')(y)\n",
    "    ### END OF CHANGE PARAMETERS ###\n",
    "    out = Dense(1, activation='sigmoid', name='OutputLayer')(y)\n",
    "\n",
    "    # Build model and compile the model\n",
    "    model = Model(x, out)\n",
    "    optimizer = keras.optimizers.Adam()\n",
    "    model.compile(loss='binary_crossentropy', optimizer=optimizer, metrics=['accuracy'])\n",
    "    return model"
   ]
  },
  {
   "cell_type": "code",
   "execution_count": null,
   "metadata": {},
   "outputs": [],
   "source": [
    "model = build_model()\n",
    "batch_size = 5\n",
    "epochs = 50"
   ]
  },
  {
   "cell_type": "code",
   "execution_count": null,
   "metadata": {},
   "outputs": [],
   "source": [
    "start = time.time()\n",
    "hist = model.fit(x_train, y_train, batch_size=batch_size, epochs=epochs, \n",
    "                 validation_data=(x_test, y_test), verbose=1)\n",
    "end = time.time()\n",
    "log = pd.DataFrame(hist.history) \n",
    "print('Training complete in', round(end-start), 'seconds')"
   ]
  },
  {
   "cell_type": "code",
   "execution_count": null,
   "metadata": {},
   "outputs": [],
   "source": [
    "log[['acc', 'val_acc']].plot()\n",
    "result = model.evaluate(x_test, y_test, batch_size=batch_size)\n",
    "print('Validation accuracy is', result[1])"
   ]
  },
  {
   "cell_type": "markdown",
   "metadata": {},
   "source": [
    "# Save and reload the model\n",
    "## Save"
   ]
  },
  {
   "cell_type": "code",
   "execution_count": null,
   "metadata": {},
   "outputs": [],
   "source": [
    "# Save the model to a JSON file\n",
    "model_json = model.to_json()\n",
    "with open('model.json', 'w') as json_file:\n",
    "    json_file.write(model_json)\n",
    "# Save the model's weights to an HDF5 file\n",
    "model.save_weights('model.h5')\n",
    "print('Model saved')"
   ]
  },
  {
   "cell_type": "markdown",
   "metadata": {},
   "source": [
    "## Load"
   ]
  },
  {
   "cell_type": "code",
   "execution_count": null,
   "metadata": {},
   "outputs": [],
   "source": [
    "json_file = open('model.json', 'r')\n",
    "loaded_json_model = json_file.read()\n",
    "json_file.close()\n",
    "loaded_model = model_from_json(loaded_json_model)\n",
    "# load weights into new model\n",
    "loaded_model.load_weights('model.h5')\n",
    "print('Model loaded from file')"
   ]
  },
  {
   "cell_type": "markdown",
   "metadata": {},
   "source": [
    "## Compile and use the loaded model"
   ]
  },
  {
   "cell_type": "code",
   "execution_count": null,
   "metadata": {},
   "outputs": [],
   "source": [
    "optimizer = keras.optimizers.Adam()\n",
    "loaded_model.compile(loss='binary_crossentropy', optimizer=optimizer, metrics=['accuracy'])\n",
    "result = loaded_model.evaluate(x_test, y_test, batch_size=batch_size)\n",
    "print('Loaded model: validation accuracy is', result[1])\n",
    "y_probability = loaded_model.predict_on_batch(x_test)\n",
    "y_predicted_class = np.round(y_probability).flatten()\n",
    "print('Some of the test results:')\n",
    "print('True', y_test[:23])\n",
    "print('Pred', y_predicted_class[:23])"
   ]
  },
  {
   "cell_type": "code",
   "execution_count": null,
   "metadata": {},
   "outputs": [],
   "source": []
  }
 ],
 "metadata": {
  "kernelspec": {
   "display_name": "Python 3",
   "language": "python",
   "name": "python3"
  },
  "language_info": {
   "codemirror_mode": {
    "name": "ipython",
    "version": 3
   },
   "file_extension": ".py",
   "mimetype": "text/x-python",
   "name": "python",
   "nbconvert_exporter": "python",
   "pygments_lexer": "ipython3",
   "version": "3.5.2"
  }
 },
 "nbformat": 4,
 "nbformat_minor": 2
}
