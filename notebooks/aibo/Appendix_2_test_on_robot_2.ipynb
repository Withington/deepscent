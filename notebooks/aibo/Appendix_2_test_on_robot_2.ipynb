{
 "cells": [
  {
   "cell_type": "markdown",
   "metadata": {},
   "source": [
    "# Test on a different robot"
   ]
  },
  {
   "cell_type": "code",
   "execution_count": null,
   "metadata": {},
   "outputs": [],
   "source": [
    "from pathlib import Path\n",
    "import time\n",
    "\n",
    "import numpy as np\n",
    "import pandas as pd\n",
    "import sklearn\n",
    "from sklearn.model_selection import train_test_split, RepeatedStratifiedKFold\n",
    "import tensorflow as tf\n",
    "import tensorflow.keras as keras\n",
    "import matplotlib.pyplot as plt\n",
    "import seaborn as sns\n",
    "\n",
    "from tensorflow.keras.layers import Input, Dense, Activation, Dropout\n",
    "from tensorflow.keras.models import Model\n",
    "from tensorflow.keras.models import model_from_json\n",
    "\n",
    "# General settings\n",
    "sns.set_style('whitegrid')"
   ]
  },
  {
   "cell_type": "code",
   "execution_count": null,
   "metadata": {},
   "outputs": [],
   "source": [
    "data_dir = '../../data'\n",
    "data_name = 'SonyAIBORobotSurface2'\n",
    "data_filename = data_dir+'/'+data_name+'/'+'SonyAIBORobotSurface2_TEST.txt'\n",
    "robot_data = np.loadtxt(Path(data_filename))\n",
    "print('Loaded from', data_filename)\n",
    "\n",
    "y = robot_data[:,0]\n",
    "x = robot_data[:,1:]\n",
    "print('The shape of x is', x.shape)\n",
    "print('The shape of y is', y.shape)\n",
    "\n",
    "# Change from classes 1 and 2 to classes 0 and 1\n",
    "y = (y - y.min())/(y.max()-y.min())\n",
    "\n",
    "print('Number of samples of class 0', (y == 0).sum())\n",
    "print('Number of samples of class 1', (y == 1).sum())\n",
    "n0 = (y == 0).sum()\n",
    "n1 = (y == 1).sum()\n",
    "print('Baseline accuracy to beat:', n1/(n0+n1))"
   ]
  },
  {
   "cell_type": "code",
   "execution_count": null,
   "metadata": {},
   "outputs": [],
   "source": [
    "x_reshape = np.zeros((x.shape[0], 70)) \n",
    "x_reshape[:x.shape[0],:x.shape[1]] = x\n",
    "x_test = x_reshape\n",
    "y_test = y"
   ]
  },
  {
   "cell_type": "code",
   "execution_count": null,
   "metadata": {},
   "outputs": [],
   "source": [
    "samples = [1, 2, 3, 5, 7]\n",
    "for i in samples:\n",
    "    plt.plot(x_test[i], label='class'+str(y_test[i]))\n",
    "plt.legend(loc='upper right', frameon=False)\n",
    "plt.ylim([-3.5, 3.5])"
   ]
  },
  {
   "cell_type": "markdown",
   "metadata": {},
   "source": [
    "## Load model"
   ]
  },
  {
   "cell_type": "code",
   "execution_count": null,
   "metadata": {},
   "outputs": [],
   "source": [
    "json_file = open('model.json', 'r')\n",
    "loaded_json_model = json_file.read()\n",
    "json_file.close()\n",
    "loaded_model = model_from_json(loaded_json_model)\n",
    "# load weights into new model\n",
    "loaded_model.load_weights('model.h5')\n",
    "print('Model loaded from file')\n",
    "optimizer = keras.optimizers.Adam()\n",
    "loaded_model.compile(loss='binary_crossentropy', optimizer=optimizer, metrics=['accuracy'])\n",
    "print('Model compiled')"
   ]
  },
  {
   "cell_type": "code",
   "execution_count": null,
   "metadata": {},
   "outputs": [],
   "source": [
    "result = loaded_model.evaluate(x_test, y_test, batch_size=batch_size)\n",
    "print('Accuracy on robot 2 data is', result[1])\n",
    "y_probability = loaded_model.predict_on_batch(x_test)\n",
    "y_predicted_class = np.round(y_probability).flatten()\n",
    "print('Some of the test results:')\n",
    "print('True', y_test[:23])\n",
    "print('Pred', y_predicted_class[:23])"
   ]
  },
  {
   "cell_type": "code",
   "execution_count": null,
   "metadata": {},
   "outputs": [],
   "source": []
  }
 ],
 "metadata": {
  "kernelspec": {
   "display_name": "Python 3",
   "language": "python",
   "name": "python3"
  },
  "language_info": {
   "codemirror_mode": {
    "name": "ipython",
    "version": 3
   },
   "file_extension": ".py",
   "mimetype": "text/x-python",
   "name": "python",
   "nbconvert_exporter": "python",
   "pygments_lexer": "ipython3",
   "version": "3.5.2"
  }
 },
 "nbformat": 4,
 "nbformat_minor": 2
}
