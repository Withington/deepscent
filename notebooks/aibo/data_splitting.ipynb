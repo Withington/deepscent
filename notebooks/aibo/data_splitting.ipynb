{
 "cells": [
  {
   "cell_type": "markdown",
   "metadata": {},
   "source": [
    "# Split the dataset into development and final test set"
   ]
  },
  {
   "cell_type": "code",
   "execution_count": 63,
   "metadata": {},
   "outputs": [],
   "source": [
    "from pathlib import Path\n",
    "\n",
    "import numpy as np\n",
    "import pandas as pd\n",
    "from sklearn.model_selection import train_test_split\n",
    "import sklearn.utils"
   ]
  },
  {
   "cell_type": "code",
   "execution_count": 64,
   "metadata": {},
   "outputs": [],
   "source": [
    "do_save = False"
   ]
  },
  {
   "cell_type": "code",
   "execution_count": 65,
   "metadata": {},
   "outputs": [
    {
     "name": "stdout",
     "output_type": "stream",
     "text": [
      "The shape of robot_data is (621, 71)\n"
     ]
    }
   ],
   "source": [
    "data_dir = '../../data'\n",
    "data_name = 'SonyAIBORobotSurface1_IoC'\n",
    "data_filename = data_dir+'/'+data_name+'/'+data_name+'_ALL.txt'\n",
    "robot_data = np.loadtxt(Path(data_filename))\n",
    "print('The shape of robot_data is', robot_data.shape)"
   ]
  },
  {
   "cell_type": "code",
   "execution_count": 66,
   "metadata": {},
   "outputs": [
    {
     "name": "stdout",
     "output_type": "stream",
     "text": [
      "Number of samples of class 1 349\n",
      "Number of samples of class 2 272\n"
     ]
    },
    {
     "data": {
      "text/plain": [
       "<matplotlib.axes._subplots.AxesSubplot at 0x7f04f8d91f98>"
      ]
     },
     "execution_count": 66,
     "metadata": {},
     "output_type": "execute_result"
    },
    {
     "data": {
      "image/png": "[encoded data removed]",
      "text/plain": [
       "<Figure size 432x288 with 1 Axes>"
      ]
     },
     "metadata": {
      "needs_background": "light"
     },
     "output_type": "display_data"
    }
   ],
   "source": [
    "y_data = robot_data[:,0]\n",
    "print('Number of samples of class 1', (y_data == 1.0).sum())\n",
    "print('Number of samples of class 2', (y_data == 2.0).sum())\n",
    "y_df = pd.DataFrame(robot_data[:,0])\n",
    "y_df[0].value_counts().plot(kind='bar')"
   ]
  },
  {
   "cell_type": "code",
   "execution_count": 67,
   "metadata": {},
   "outputs": [],
   "source": [
    "robot_data = sklearn.utils.shuffle(robot_data)"
   ]
  },
  {
   "cell_type": "markdown",
   "metadata": {},
   "source": [
    "# Create a balanced dataset"
   ]
  },
  {
   "cell_type": "code",
   "execution_count": 68,
   "metadata": {},
   "outputs": [
    {
     "name": "stdout",
     "output_type": "stream",
     "text": [
      "Selection set sizes: 349 272\n",
      "Min selection set size: 272\n"
     ]
    },
    {
     "data": {
      "text/plain": [
       "<matplotlib.axes._subplots.AxesSubplot at 0x7f04f8d9e0f0>"
      ]
     },
     "execution_count": 68,
     "metadata": {},
     "output_type": "execute_result"
    },
    {
     "data": {
      "image/png": "[encoded data removed]",
      "text/plain": [
       "<Figure size 432x288 with 1 Axes>"
      ]
     },
     "metadata": {
      "needs_background": "light"
     },
     "output_type": "display_data"
    }
   ],
   "source": [
    "robot_df = pd.DataFrame(robot_data)\n",
    "class1_df = robot_df[(robot_df[0]==1)]\n",
    "class2_df = robot_df[(robot_df[0]==2)]\n",
    "n1 = class1_df.count()[0]\n",
    "n2 = class2_df.count()[0]\n",
    "n = min(n1, n2)\n",
    "print('Selection set sizes:', n1, n2)\n",
    "print('Min selection set size:', n)\n",
    "class1_df = class1_df.iloc[:n]\n",
    "class2_df = class2_df.iloc[:n]\n",
    "balanced_df = pd.concat([class1_df, class2_df])\n",
    "balanced_df = sklearn.utils.shuffle(balanced_df)\n",
    "balanced_df[0].value_counts().plot(kind='bar')"
   ]
  },
  {
   "cell_type": "markdown",
   "metadata": {},
   "source": [
    "# Save the balanced dataset"
   ]
  },
  {
   "cell_type": "code",
   "execution_count": 69,
   "metadata": {},
   "outputs": [],
   "source": [
    "data_filename = data_name+'_BALANCED.txt'\n",
    "if do_save:   \n",
    "    np.savetxt(data_filename, balanced_df.to_numpy(), fmt='%8e', delimiter='\\t')"
   ]
  },
  {
   "cell_type": "markdown",
   "metadata": {},
   "source": [
    "# Reload and check the balanced dataset"
   ]
  },
  {
   "cell_type": "code",
   "execution_count": 70,
   "metadata": {},
   "outputs": [
    {
     "name": "stdout",
     "output_type": "stream",
     "text": [
      "The shape of balanced_data is (544, 71)\n",
      "Number of samples of class 1 272\n",
      "Number of samples of class 2 272\n"
     ]
    },
    {
     "data": {
      "text/plain": [
       "<matplotlib.axes._subplots.AxesSubplot at 0x7f04f8dc29e8>"
      ]
     },
     "execution_count": 70,
     "metadata": {},
     "output_type": "execute_result"
    },
    {
     "data": {
      "image/png": "[encoded data removed]",
      "text/plain": [
       "<Figure size 432x288 with 1 Axes>"
      ]
     },
     "metadata": {
      "needs_background": "light"
     },
     "output_type": "display_data"
    }
   ],
   "source": [
    "balanced_data = np.loadtxt(Path(data_filename))\n",
    "print('The shape of balanced_data is', balanced_data.shape)\n",
    "y_data = balanced_data[:,0]\n",
    "print('Number of samples of class 1', (y_data == 1.0).sum())\n",
    "print('Number of samples of class 2', (y_data == 2.0).sum())\n",
    "y_df = pd.DataFrame(y_data)\n",
    "y_df[0].value_counts().plot(kind='bar')"
   ]
  },
  {
   "cell_type": "markdown",
   "metadata": {},
   "source": [
    "# Split the data"
   ]
  },
  {
   "cell_type": "code",
   "execution_count": 71,
   "metadata": {},
   "outputs": [
    {
     "name": "stdout",
     "output_type": "stream",
     "text": [
      "The shape of train_data is (444, 71)\n",
      "The shape of test_data is (100, 71)\n",
      "Training data:\n",
      "Number of samples of class 1 222\n",
      "Number of samples of class 2 222\n",
      "Test data:\n",
      "Number of samples of class 1 50\n",
      "Number of samples of class 2 50\n"
     ]
    }
   ],
   "source": [
    "train_data, test_data = train_test_split(balanced_data, test_size=100, random_state=21, stratify=balanced_data[:,0])\n",
    "print('The shape of train_data is', train_data.shape)\n",
    "print('The shape of test_data is', test_data.shape)\n",
    "print('Training data:')\n",
    "print('Number of samples of class 1', (train_data[:,0] == 1.0).sum())\n",
    "print('Number of samples of class 2', (train_data[:,0] == 2.0).sum())\n",
    "print('Test data:')\n",
    "print('Number of samples of class 1', (test_data[:,0] == 1.0).sum())\n",
    "print('Number of samples of class 2', (test_data[:,0] == 2.0).sum())"
   ]
  },
  {
   "cell_type": "markdown",
   "metadata": {},
   "source": [
    "# Save the development and final test datasets"
   ]
  },
  {
   "cell_type": "code",
   "execution_count": 72,
   "metadata": {},
   "outputs": [],
   "source": [
    "if do_save:\n",
    "    data_filename = data_name+'_DEV.txt'\n",
    "    np.savetxt(data_filename, train_data, fmt='%8e', delimiter='\\t')\n",
    "    data_filename = data_name+'_FINAL_TEST.txt'\n",
    "    np.savetxt(data_filename, test_data, fmt='%8e', delimiter='\\t')"
   ]
  },
  {
   "cell_type": "code",
   "execution_count": null,
   "metadata": {},
   "outputs": [],
   "source": []
  }
 ],
 "metadata": {
  "kernelspec": {
   "display_name": "Python 3",
   "language": "python",
   "name": "python3"
  },
  "language_info": {
   "codemirror_mode": {
    "name": "ipython",
    "version": 3
   },
   "file_extension": ".py",
   "mimetype": "text/x-python",
   "name": "python",
   "nbconvert_exporter": "python",
   "pygments_lexer": "ipython3",
   "version": "3.5.2"
  }
 },
 "nbformat": 4,
 "nbformat_minor": 2
}
