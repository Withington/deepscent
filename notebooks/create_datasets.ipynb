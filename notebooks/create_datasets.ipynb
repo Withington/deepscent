{
 "cells": [
  {
   "cell_type": "markdown",
   "metadata": {},
   "source": [
    "# Create dataset for development"
   ]
  },
  {
   "cell_type": "code",
   "execution_count": null,
   "metadata": {},
   "outputs": [],
   "source": [
    "import datetime\n",
    "from pathlib import Path\n",
    "\n",
    "import numpy as np\n",
    "import matplotlib.pyplot as plt\n",
    "import pandas as pd\n",
    "from sklearn.model_selection import train_test_split\n",
    "import sklearn.utils\n",
    "\n",
    "%matplotlib inline\n",
    "\n",
    "np.random.seed(51)\n",
    "seed = 78"
   ]
  },
  {
   "cell_type": "code",
   "execution_count": null,
   "metadata": {},
   "outputs": [],
   "source": [
    "# User inputs\n",
    "do_save = True\n",
    "data_dir = '../data/private_data'"
   ]
  },
  {
   "cell_type": "code",
   "execution_count": null,
   "metadata": {},
   "outputs": [],
   "source": [
    "df = pd.read_csv(data_dir+'/private_events_dev2/private_events_all_TRAIN_update.txt', header=None, sep=' ')\n",
    "meta = pd.read_csv(data_dir+'/private_events_dev2/private_events_all_TRAIN_update_meta.txt', sep=',', parse_dates=['date'])\n",
    "print(df.shape, meta.shape)\n",
    "print(meta.head())\n",
    "print(df.head())"
   ]
  },
  {
   "cell_type": "markdown",
   "metadata": {},
   "source": [
    "# Plot data"
   ]
  },
  {
   "cell_type": "code",
   "execution_count": null,
   "metadata": {},
   "outputs": [],
   "source": [
    "i = 7\n",
    "print(meta.iloc[i])\n",
    "df.iloc[i][1:].plot()"
   ]
  },
  {
   "cell_type": "markdown",
   "metadata": {},
   "source": [
    "# Examine data"
   ]
  },
  {
   "cell_type": "code",
   "execution_count": null,
   "metadata": {},
   "outputs": [],
   "source": [
    "this_dog = 'Ozzy'\n",
    "print(meta[(meta['dog']==this_dog) & (meta['dog_result']=='TP')].count()[0])\n",
    "print(meta[(meta['dog']==this_dog) & (meta['dog_result']=='TN')].count()[0])"
   ]
  },
  {
   "cell_type": "code",
   "execution_count": null,
   "metadata": {},
   "outputs": [],
   "source": [
    "print(meta[(meta['Concentration']>=1/25e6)].count()[0])\n",
    "print(meta[(meta['Concentration']>=1/25e6) & (meta['dog_result']=='TP')].count()[0])"
   ]
  },
  {
   "cell_type": "markdown",
   "metadata": {},
   "source": [
    "# Join meta data to dataset"
   ]
  },
  {
   "cell_type": "code",
   "execution_count": null,
   "metadata": {},
   "outputs": [],
   "source": [
    "data_meta = pd.concat([meta, df], axis=1)\n",
    "data_meta.head()"
   ]
  },
  {
   "cell_type": "markdown",
   "metadata": {},
   "source": [
    "# Create balanced dataset"
   ]
  },
  {
   "cell_type": "code",
   "execution_count": null,
   "metadata": {},
   "outputs": [],
   "source": [
    "n = 53\n",
    "sklearn.utils.shuffle(data_meta)\n",
    "#selection_0 = data_meta[(data_meta['dog']==this_dog) & (data_meta['class']==0)]\n",
    "selection_0 = data_meta[(data_meta['dog']==this_dog) & (meta['dog_result']=='TN')]\n",
    "selection_0 = selection_0.iloc[:n]\n",
    "#selection_1 = data_meta[(data_meta['dog']==this_dog) & (data_meta['class']==1)]\n",
    "selection_1 = data_meta[(data_meta['dog']==this_dog) & (meta['dog_result']=='TP')]\n",
    "selection_1 = selection_1.iloc[:n]\n",
    "selection = pd.concat([selection_0, selection_1])\n",
    "selection = sklearn.utils.shuffle(selection)\n",
    "selection.head()"
   ]
  },
  {
   "cell_type": "markdown",
   "metadata": {},
   "source": [
    "# Split into training and test sets"
   ]
  },
  {
   "cell_type": "code",
   "execution_count": null,
   "metadata": {},
   "outputs": [],
   "source": [
    "test_split = 0.25\n",
    "stratify = selection['class']\n",
    "selection_train, selection_test = train_test_split(selection, test_size=test_split, stratify=stratify, random_state=seed)"
   ]
  },
  {
   "cell_type": "markdown",
   "metadata": {},
   "source": [
    "# Split the dataset back out into meta and dataset "
   ]
  },
  {
   "cell_type": "code",
   "execution_count": null,
   "metadata": {},
   "outputs": [],
   "source": [
    "header = list(meta)\n",
    "meta_train = selection_train[header]\n",
    "dataset_train = selection_train[selection_train.columns.difference(header)]\n",
    "meta_test = selection_test[header]\n",
    "dataset_test = selection_test[selection_test.columns.difference(header)]\n",
    "meta_test.head()\n",
    "print('meta_train', meta_train.shape)\n",
    "print('dataset_train', dataset_train.shape)\n",
    "print('meta_test', meta_test.shape)\n",
    "print('dataset_test', dataset_test.shape)"
   ]
  },
  {
   "cell_type": "code",
   "execution_count": null,
   "metadata": {},
   "outputs": [],
   "source": [
    "meta_train.head()"
   ]
  },
  {
   "cell_type": "markdown",
   "metadata": {},
   "source": [
    "# Save to file"
   ]
  },
  {
   "cell_type": "code",
   "execution_count": null,
   "metadata": {},
   "outputs": [],
   "source": [
    "if do_save:\n",
    "    filename_stem = 'private_dog1_correct'\n",
    "    np.savetxt(filename_stem+'_TRAIN.txt', dataset_train.to_numpy(), fmt='%f', delimiter=' ')\n",
    "    meta_train.to_csv(filename_stem+'_TRAIN_meta.txt', index=False)\n",
    "    np.savetxt(filename_stem+'_TEST.txt', dataset_test.to_numpy(), fmt='%f', delimiter=' ')\n",
    "    meta_test.to_csv(filename_stem+'_TEST_meta.txt', index=False)"
   ]
  },
  {
   "cell_type": "markdown",
   "metadata": {},
   "source": [
    "# Check data"
   ]
  },
  {
   "cell_type": "code",
   "execution_count": null,
   "metadata": {},
   "outputs": [],
   "source": [
    "df_output = pd.read_csv(filename_stem+'_TRAIN.txt', header=None, sep=' ')\n",
    "meta_output = pd.read_csv(filename_stem+'_TRAIN_meta.txt', sep=',', parse_dates=['date'])\n",
    "print(df_output.shape, meta_output.shape)\n",
    "print('class 0:', meta_output[(meta_output['dog']==this_dog) & (meta_output['class']==0)].count()[0])\n",
    "print('class 1:', meta_output[(meta_output['dog']==this_dog) & (meta_output['class']==1)].count()[0])\n",
    "print(meta_output.head())\n",
    "print(df_output.head())"
   ]
  },
  {
   "cell_type": "code",
   "execution_count": null,
   "metadata": {},
   "outputs": [],
   "source": [
    "i = 0\n",
    "df_output.iloc[i][1:].plot()\n",
    "plt.suptitle('class: '+str(meta_output.iloc[i]['class']))"
   ]
  },
  {
   "cell_type": "code",
   "execution_count": null,
   "metadata": {},
   "outputs": [],
   "source": [
    "i = 1\n",
    "df_output.iloc[i][1:].plot()\n",
    "plt.suptitle('class: '+str(meta_output.iloc[i]['class']))"
   ]
  },
  {
   "cell_type": "code",
   "execution_count": null,
   "metadata": {},
   "outputs": [],
   "source": [
    "df_output = pd.read_csv('../data/private_data/private_events_dev/private_mini/private_mini_TRAIN.txt', header=None, sep=' ')\n",
    "meta_output = pd.read_csv('../data/private_data/private_events_dev/private_mini/private_mini_TRAIN_meta.txt', sep=',', parse_dates=['date'])\n",
    "print(df_output.shape, meta_output.shape)\n",
    "print('class 0:', meta_output[(meta_output['class']==0)].count()[0])\n",
    "print('class 1:', meta_output[(meta_output['class']==1)].count()[0])\n",
    "print(meta_output.head())\n",
    "print(df_output.head())"
   ]
  },
  {
   "cell_type": "code",
   "execution_count": null,
   "metadata": {},
   "outputs": [],
   "source": []
  }
 ],
 "metadata": {
  "kernelspec": {
   "display_name": "Python 3",
   "language": "python",
   "name": "python3"
  },
  "language_info": {
   "codemirror_mode": {
    "name": "ipython",
    "version": 3
   },
   "file_extension": ".py",
   "mimetype": "text/x-python",
   "name": "python",
   "nbconvert_exporter": "python",
   "pygments_lexer": "ipython3",
   "version": "3.5.2"
  }
 },
 "nbformat": 4,
 "nbformat_minor": 2
}
